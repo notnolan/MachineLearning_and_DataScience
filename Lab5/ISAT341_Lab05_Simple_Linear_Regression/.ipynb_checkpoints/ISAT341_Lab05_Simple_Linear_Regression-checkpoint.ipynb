{
 "cells": [
  {
   "cell_type": "markdown",
   "metadata": {},
   "source": [
    "# Simple Linear Regression Model\n",
    "## Objective\n",
    "As a result of completing this exercise you should be able to:\n",
    "\n",
    "- Build a simple linear regression model using `scikit-learn` in Python\n",
    "- Make plots using `matplotlib` in Python\n",
    "- Load data in to Python using `pandas` in Python\n",
    "- Understand simple linear regression model\n",
    "- Interpret the learning model and the output \n",
    "- Briefly evaluate the regression model with mean square error "
   ]
  },
  {
   "cell_type": "markdown",
   "metadata": {},
   "source": [
    "## Import Libraries\n",
    "\n",
    "Do this, if you prefer to import all the packages together in beginning of the notebook, and remember to run this cell first every time before you run other cells that need packages.\n",
    "\n",
    "If you prefer to import packages one by one later, you can skip this section. Do remember to import packages when you need to use them in the latter cells."
   ]
  },
  {
   "cell_type": "code",
   "execution_count": 1,
   "metadata": {},
   "outputs": [],
   "source": [
    "# import packages for future use in this notebook \n",
    "# please import the packages you plan to use, if prefered\n",
    "import pandas as pd\n",
    "import numpy as np\n",
    "import matplotlib.pyplot as plt"
   ]
  },
  {
   "cell_type": "markdown",
   "metadata": {},
   "source": [
    "## Define a Function to Visualize the Data and Regression Model"
   ]
  },
  {
   "cell_type": "code",
   "execution_count": 2,
   "metadata": {},
   "outputs": [],
   "source": [
    "# create a function to plot the training set and the regression line, the predictions\n",
    "def lin_regplot(X, y, model):\n",
    "    plt.scatter(X, y)\n",
    "    plt.plot(X, model.predict(X), color='red', lw=2)\n",
    "    return None"
   ]
  },
  {
   "cell_type": "markdown",
   "metadata": {},
   "source": [
    "## Example - Simple Linear Regression with External Data"
   ]
  },
  {
   "cell_type": "markdown",
   "metadata": {},
   "source": [
    "In this exercise, we will build a simple linear regression model to predict the price of a house (target value) based on the living area of that house (one feature of the house).\n",
    "\n",
    "The exteranl data (i.e., 'housing_or.csv') includes information of 47 houses from Portland, Oregon. \n",
    "\n",
    "\n",
    "Data source:\n",
    "The data are from Kaggle and more details as well as data description can be found at https://www.kaggle.com/kennethjohn/housingprice. (The dataset is the \"housing_or.csv\" on the website. The data include livining area, number of bedroom, and the price of 47 houses.)\n"
   ]
  },
  {
   "cell_type": "markdown",
   "metadata": {},
   "source": [
    "### Preprocessing"
   ]
  },
  {
   "cell_type": "markdown",
   "metadata": {},
   "source": [
    "#### Load Data"
   ]
  },
  {
   "cell_type": "code",
   "execution_count": 3,
   "metadata": {},
   "outputs": [],
   "source": [
    "# load the data from csv to python as a DataFrame\n",
    "housing_or = pd.read_csv(\"./datasets/housing_or.csv\")"
   ]
  },
  {
   "cell_type": "code",
   "execution_count": 4,
   "metadata": {},
   "outputs": [
    {
     "name": "stdout",
     "output_type": "stream",
     "text": [
      "(47, 3)\n",
      "2\n"
     ]
    }
   ],
   "source": [
    "# check the shape of the DataFrame: rows and columns\n",
    "print(housing_or.shape)\n",
    "\n",
    "# check the dimension of the DataFrame\n",
    "print(housing_or.ndim)"
   ]
  },
  {
   "cell_type": "code",
   "execution_count": 5,
   "metadata": {},
   "outputs": [
    {
     "data": {
      "text/html": [
       "<div>\n",
       "<style scoped>\n",
       "    .dataframe tbody tr th:only-of-type {\n",
       "        vertical-align: middle;\n",
       "    }\n",
       "\n",
       "    .dataframe tbody tr th {\n",
       "        vertical-align: top;\n",
       "    }\n",
       "\n",
       "    .dataframe thead th {\n",
       "        text-align: right;\n",
       "    }\n",
       "</style>\n",
       "<table border=\"1\" class=\"dataframe\">\n",
       "  <thead>\n",
       "    <tr style=\"text-align: right;\">\n",
       "      <th></th>\n",
       "      <th>living_area_ft2</th>\n",
       "      <th>bedroom_num</th>\n",
       "      <th>price_usd1000</th>\n",
       "    </tr>\n",
       "  </thead>\n",
       "  <tbody>\n",
       "    <tr>\n",
       "      <th>0</th>\n",
       "      <td>2104</td>\n",
       "      <td>3</td>\n",
       "      <td>3999.0</td>\n",
       "    </tr>\n",
       "    <tr>\n",
       "      <th>1</th>\n",
       "      <td>1600</td>\n",
       "      <td>3</td>\n",
       "      <td>3299.0</td>\n",
       "    </tr>\n",
       "    <tr>\n",
       "      <th>2</th>\n",
       "      <td>2400</td>\n",
       "      <td>3</td>\n",
       "      <td>3690.0</td>\n",
       "    </tr>\n",
       "    <tr>\n",
       "      <th>3</th>\n",
       "      <td>1416</td>\n",
       "      <td>2</td>\n",
       "      <td>2320.0</td>\n",
       "    </tr>\n",
       "    <tr>\n",
       "      <th>4</th>\n",
       "      <td>3000</td>\n",
       "      <td>4</td>\n",
       "      <td>5399.0</td>\n",
       "    </tr>\n",
       "  </tbody>\n",
       "</table>\n",
       "</div>"
      ],
      "text/plain": [
       "   living_area_ft2  bedroom_num  price_usd1000\n",
       "0             2104            3         3999.0\n",
       "1             1600            3         3299.0\n",
       "2             2400            3         3690.0\n",
       "3             1416            2         2320.0\n",
       "4             3000            4         5399.0"
      ]
     },
     "execution_count": 5,
     "metadata": {},
     "output_type": "execute_result"
    }
   ],
   "source": [
    "# check the first few, five by default, lines of the data\n",
    "housing_or.head()"
   ]
  },
  {
   "cell_type": "code",
   "execution_count": 6,
   "metadata": {},
   "outputs": [
    {
     "data": {
      "text/html": [
       "<div>\n",
       "<style scoped>\n",
       "    .dataframe tbody tr th:only-of-type {\n",
       "        vertical-align: middle;\n",
       "    }\n",
       "\n",
       "    .dataframe tbody tr th {\n",
       "        vertical-align: top;\n",
       "    }\n",
       "\n",
       "    .dataframe thead th {\n",
       "        text-align: right;\n",
       "    }\n",
       "</style>\n",
       "<table border=\"1\" class=\"dataframe\">\n",
       "  <thead>\n",
       "    <tr style=\"text-align: right;\">\n",
       "      <th></th>\n",
       "      <th>living_area_ft2</th>\n",
       "      <th>bedroom_num</th>\n",
       "      <th>price_usd1000</th>\n",
       "    </tr>\n",
       "  </thead>\n",
       "  <tbody>\n",
       "    <tr>\n",
       "      <th>42</th>\n",
       "      <td>2567</td>\n",
       "      <td>4</td>\n",
       "      <td>3140.0</td>\n",
       "    </tr>\n",
       "    <tr>\n",
       "      <th>43</th>\n",
       "      <td>1200</td>\n",
       "      <td>3</td>\n",
       "      <td>2990.0</td>\n",
       "    </tr>\n",
       "    <tr>\n",
       "      <th>44</th>\n",
       "      <td>852</td>\n",
       "      <td>2</td>\n",
       "      <td>1799.0</td>\n",
       "    </tr>\n",
       "    <tr>\n",
       "      <th>45</th>\n",
       "      <td>1852</td>\n",
       "      <td>4</td>\n",
       "      <td>2999.0</td>\n",
       "    </tr>\n",
       "    <tr>\n",
       "      <th>46</th>\n",
       "      <td>1203</td>\n",
       "      <td>3</td>\n",
       "      <td>2395.0</td>\n",
       "    </tr>\n",
       "  </tbody>\n",
       "</table>\n",
       "</div>"
      ],
      "text/plain": [
       "    living_area_ft2  bedroom_num  price_usd1000\n",
       "42             2567            4         3140.0\n",
       "43             1200            3         2990.0\n",
       "44              852            2         1799.0\n",
       "45             1852            4         2999.0\n",
       "46             1203            3         2395.0"
      ]
     },
     "execution_count": 6,
     "metadata": {},
     "output_type": "execute_result"
    }
   ],
   "source": [
    "# check the last few, five by default, lines of the data\n",
    "housing_or.tail()"
   ]
  },
  {
   "cell_type": "markdown",
   "metadata": {},
   "source": [
    "##### Explore the Data \n",
    "To have some ideas about data and estimation about possible model before fitting the model. After fitting the model, you will be able to identify whether the model built making sense or not. "
   ]
  },
  {
   "cell_type": "code",
   "execution_count": 7,
   "metadata": {},
   "outputs": [
    {
     "data": {
      "text/html": [
       "<div>\n",
       "<style scoped>\n",
       "    .dataframe tbody tr th:only-of-type {\n",
       "        vertical-align: middle;\n",
       "    }\n",
       "\n",
       "    .dataframe tbody tr th {\n",
       "        vertical-align: top;\n",
       "    }\n",
       "\n",
       "    .dataframe thead th {\n",
       "        text-align: right;\n",
       "    }\n",
       "</style>\n",
       "<table border=\"1\" class=\"dataframe\">\n",
       "  <thead>\n",
       "    <tr style=\"text-align: right;\">\n",
       "      <th></th>\n",
       "      <th>living_area_ft2</th>\n",
       "      <th>bedroom_num</th>\n",
       "      <th>price_usd1000</th>\n",
       "    </tr>\n",
       "  </thead>\n",
       "  <tbody>\n",
       "    <tr>\n",
       "      <th>count</th>\n",
       "      <td>47.000000</td>\n",
       "      <td>47.000000</td>\n",
       "      <td>47.000000</td>\n",
       "    </tr>\n",
       "    <tr>\n",
       "      <th>mean</th>\n",
       "      <td>2000.680851</td>\n",
       "      <td>3.170213</td>\n",
       "      <td>3404.126596</td>\n",
       "    </tr>\n",
       "    <tr>\n",
       "      <th>std</th>\n",
       "      <td>794.702354</td>\n",
       "      <td>0.760982</td>\n",
       "      <td>1250.398996</td>\n",
       "    </tr>\n",
       "    <tr>\n",
       "      <th>min</th>\n",
       "      <td>852.000000</td>\n",
       "      <td>1.000000</td>\n",
       "      <td>1699.000000</td>\n",
       "    </tr>\n",
       "    <tr>\n",
       "      <th>25%</th>\n",
       "      <td>1432.000000</td>\n",
       "      <td>3.000000</td>\n",
       "      <td>2499.000000</td>\n",
       "    </tr>\n",
       "    <tr>\n",
       "      <th>50%</th>\n",
       "      <td>1888.000000</td>\n",
       "      <td>3.000000</td>\n",
       "      <td>2999.000000</td>\n",
       "    </tr>\n",
       "    <tr>\n",
       "      <th>75%</th>\n",
       "      <td>2269.000000</td>\n",
       "      <td>4.000000</td>\n",
       "      <td>3844.500000</td>\n",
       "    </tr>\n",
       "    <tr>\n",
       "      <th>max</th>\n",
       "      <td>4478.000000</td>\n",
       "      <td>5.000000</td>\n",
       "      <td>6999.000000</td>\n",
       "    </tr>\n",
       "  </tbody>\n",
       "</table>\n",
       "</div>"
      ],
      "text/plain": [
       "       living_area_ft2  bedroom_num  price_usd1000\n",
       "count        47.000000    47.000000      47.000000\n",
       "mean       2000.680851     3.170213    3404.126596\n",
       "std         794.702354     0.760982    1250.398996\n",
       "min         852.000000     1.000000    1699.000000\n",
       "25%        1432.000000     3.000000    2499.000000\n",
       "50%        1888.000000     3.000000    2999.000000\n",
       "75%        2269.000000     4.000000    3844.500000\n",
       "max        4478.000000     5.000000    6999.000000"
      ]
     },
     "execution_count": 7,
     "metadata": {},
     "output_type": "execute_result"
    }
   ],
   "source": [
    "# summarize of the variables in the DataFrame\n",
    "housing_or.describe()"
   ]
  },
  {
   "cell_type": "markdown",
   "metadata": {},
   "source": [
    "Questions:\n",
    "- How many observations, instances, samples do you have? 47 samples\n",
    "- How many features or variables, do you have for each sample? 3 features\n",
    "- What are the column name for those features? living area, bedroom num, price usd\n",
    "- Which one is the target value? price_usd1000\n",
    "- Which one is the one feature we will use to answer our question in the example?living_area_ft2"
   ]
  },
  {
   "cell_type": "code",
   "execution_count": 8,
   "metadata": {},
   "outputs": [
    {
     "data": {
      "text/plain": [
       "array([[<AxesSubplot:title={'center':'living_area_ft2'}>,\n",
       "        <AxesSubplot:title={'center':'bedroom_num'}>],\n",
       "       [<AxesSubplot:title={'center':'price_usd1000'}>, <AxesSubplot:>]],\n",
       "      dtype=object)"
      ]
     },
     "execution_count": 8,
     "metadata": {},
     "output_type": "execute_result"
    },
    {
     "data": {
      "image/png": "[encoded data removed]",
      "text/plain": [
       "<Figure size 432x288 with 4 Axes>"
      ]
     },
     "metadata": {
      "needs_background": "light"
     },
     "output_type": "display_data"
    }
   ],
   "source": [
    "# visualize the data: display histogram of each variables\n",
    "# using pandas \n",
    "housing_or.hist()"
   ]
  },
  {
   "cell_type": "code",
   "execution_count": 9,
   "metadata": {},
   "outputs": [
    {
     "data": {
      "text/plain": [
       "(array([ 5., 11.,  9., 11.,  5.,  1.,  2.,  0.,  1.,  2.]),\n",
       " array([ 852. , 1214.6, 1577.2, 1939.8, 2302.4, 2665. , 3027.6, 3390.2,\n",
       "        3752.8, 4115.4, 4478. ]),\n",
       " <BarContainer object of 10 artists>)"
      ]
     },
     "execution_count": 9,
     "metadata": {},
     "output_type": "execute_result"
    },
    {
     "data": {
      "image/png": "[encoded data removed]",
      "text/plain": [
       "<Figure size 432x288 with 1 Axes>"
      ]
     },
     "metadata": {
      "needs_background": "light"
     },
     "output_type": "display_data"
    }
   ],
   "source": [
    "# visualize the data: display histogram of specific variable\n",
    "# using matlibplot \n",
    "plt.hist(housing_or['living_area_ft2'])"
   ]
  },
  {
   "cell_type": "code",
   "execution_count": 9,
   "metadata": {},
   "outputs": [
    {
     "data": {
      "text/plain": [
       "array([[<AxesSubplot:xlabel='living_area_ft2', ylabel='living_area_ft2'>,\n",
       "        <AxesSubplot:xlabel='bedroom_num', ylabel='living_area_ft2'>,\n",
       "        <AxesSubplot:xlabel='price_usd1000', ylabel='living_area_ft2'>],\n",
       "       [<AxesSubplot:xlabel='living_area_ft2', ylabel='bedroom_num'>,\n",
       "        <AxesSubplot:xlabel='bedroom_num', ylabel='bedroom_num'>,\n",
       "        <AxesSubplot:xlabel='price_usd1000', ylabel='bedroom_num'>],\n",
       "       [<AxesSubplot:xlabel='living_area_ft2', ylabel='price_usd1000'>,\n",
       "        <AxesSubplot:xlabel='bedroom_num', ylabel='price_usd1000'>,\n",
       "        <AxesSubplot:xlabel='price_usd1000', ylabel='price_usd1000'>]],\n",
       "      dtype=object)"
      ]
     },
     "execution_count": 9,
     "metadata": {},
     "output_type": "execute_result"
    },
    {
     "data": {
      "image/png": "[encoded data removed]",
      "text/plain": [
       "<Figure size 432x288 with 9 Axes>"
      ]
     },
     "metadata": {
      "needs_background": "light"
     },
     "output_type": "display_data"
    }
   ],
   "source": [
    "# visualize each variables and the relationship between each variables\n",
    "from pandas.plotting import scatter_matrix\n",
    "scatter_matrix(housing_or[['living_area_ft2','bedroom_num','price_usd1000']])"
   ]
  },
  {
   "cell_type": "code",
   "execution_count": 11,
   "metadata": {},
   "outputs": [
    {
     "data": {
      "text/plain": [
       "Text(0, 0.5, 'Price ($1000)')"
      ]
     },
     "execution_count": 11,
     "metadata": {},
     "output_type": "execute_result"
    },
    {
     "data": {
      "image/png": "[encoded data removed]",
      "text/plain": [
       "<Figure size 432x288 with 1 Axes>"
      ]
     },
     "metadata": {
      "needs_background": "light"
     },
     "output_type": "display_data"
    }
   ],
   "source": [
    "# visualize the realtionship between the feature and target\n",
    "plt.scatter(housing_or['living_area_ft2'], housing_or['price_usd1000'])\n",
    "plt.title(\"Portland OR Housing Prices\")\n",
    "plt.xlabel(\"Living Area (square feet)\")\n",
    "plt.ylabel(\"Price ($1000)\")"
   ]
  },
  {
   "cell_type": "markdown",
   "metadata": {},
   "source": [
    "Question:\n",
    "- Do you think linear model could be good for the data? low data dimensionality, only target value and the value we are using to predict that value.\n",
    "- Can you guess what the linear model would look like? (Where the line would be?) The line would be right in the middle of the data points, essentially diagonally through the graph"
   ]
  },
  {
   "cell_type": "markdown",
   "metadata": {},
   "source": [
    "##### Assign Features and Target Values to Variables"
   ]
  },
  {
   "cell_type": "code",
   "execution_count": 10,
   "metadata": {},
   "outputs": [],
   "source": [
    "# get the proper column using the index and assign the column to the proper variable\n",
    "X = housing_or[\"living_area_ft2\"].values\n",
    "y = housing_or[\"price_usd1000\"].values"
   ]
  },
  {
   "cell_type": "code",
   "execution_count": 11,
   "metadata": {},
   "outputs": [
    {
     "name": "stdout",
     "output_type": "stream",
     "text": [
      "(47,)\n",
      "(47,)\n"
     ]
    }
   ],
   "source": [
    "# check the shape and dimension of the data\n",
    "print(X.shape)\n",
    "print(y.shape)"
   ]
  },
  {
   "cell_type": "code",
   "execution_count": 12,
   "metadata": {},
   "outputs": [
    {
     "name": "stdout",
     "output_type": "stream",
     "text": [
      "(47, 1)\n"
     ]
    }
   ],
   "source": [
    "# reshape the features to a proper format (vector or matrix) for the learning model \n",
    "X = X.reshape(-1,1)\n",
    "print(X.shape)"
   ]
  },
  {
   "cell_type": "markdown",
   "metadata": {},
   "source": [
    "#### Split training samples into training set and test set"
   ]
  },
  {
   "cell_type": "code",
   "execution_count": 13,
   "metadata": {},
   "outputs": [],
   "source": [
    "# load necessary package and methods\n",
    "from sklearn.model_selection import train_test_split\n",
    "\n",
    "# split the training data into training set and test set\n",
    "X_train, X_test, y_train, y_test = train_test_split(\n",
    "    X, y, test_size=0.2, random_state=1)"
   ]
  },
  {
   "cell_type": "code",
   "execution_count": 14,
   "metadata": {},
   "outputs": [
    {
     "data": {
      "text/plain": [
       "(37, 1)"
      ]
     },
     "execution_count": 14,
     "metadata": {},
     "output_type": "execute_result"
    }
   ],
   "source": [
    "X_train.shape"
   ]
  },
  {
   "cell_type": "markdown",
   "metadata": {},
   "source": [
    "### Learning - Training a Simple Linear Regression Model\n",
    "Fit or train a simple regression model"
   ]
  },
  {
   "cell_type": "code",
   "execution_count": 15,
   "metadata": {},
   "outputs": [
    {
     "data": {
      "text/plain": [
       "LinearRegression()"
      ]
     },
     "execution_count": 15,
     "metadata": {},
     "output_type": "execute_result"
    }
   ],
   "source": [
    "# if you haven't loaded the package before, import the packages and methods\n",
    "from sklearn.linear_model import LinearRegression\n",
    "\n",
    "# build a linear regression model\n",
    "# set the regression\n",
    "slr_model = LinearRegression()\n",
    "\n",
    "# fit the model with training set\n",
    "slr_model.fit(X_train,y_train)\n"
   ]
  },
  {
   "cell_type": "code",
   "execution_count": 16,
   "metadata": {},
   "outputs": [
    {
     "name": "stdout",
     "output_type": "stream",
     "text": [
      "intercept: 590.8309582467928\n",
      "slope: [1.4328676]\n",
      "score: 0.7961165977468019\n"
     ]
    }
   ],
   "source": [
    "# show the result of learning: information about the model\n",
    "print('intercept:', slr_model.intercept_)\n",
    "print('slope:', slr_model.coef_)\n",
    "\n",
    "print('score:', slr_model.score(X_train,y_train))"
   ]
  },
  {
   "cell_type": "markdown",
   "metadata": {},
   "source": [
    "Question:\n",
    "Given that our hypothsis or model is $h(\\theta) = \\theta_0 + \\theta_1 x_1$\n",
    "- What value is the $\\theta_0$? 590.8309582467928\n",
    "- What value is the $\\theta_1$? 1.4328676\n",
    "- What is the hypothesis or linear model built? $h(\\theta)=$? 590.8309582467928 + 1.4328676x\n",
    "- What does score mean? it refers to how accurate the regression is"
   ]
  },
  {
   "cell_type": "markdown",
   "metadata": {},
   "source": [
    "### Prediction\n",
    "Predict the target value for new x values (or new features)"
   ]
  },
  {
   "cell_type": "markdown",
   "metadata": {},
   "source": [
    "Let's use the built model to estimate the price of a house with 3000 sqft living area"
   ]
  },
  {
   "cell_type": "code",
   "execution_count": 25,
   "metadata": {},
   "outputs": [
    {
     "name": "stdout",
     "output_type": "stream",
     "text": [
      "[4200.22443408]\n"
     ]
    }
   ],
   "source": [
    "X_new = [[2519]]\n",
    "print(slr_model.predict(X_new))"
   ]
  },
  {
   "cell_type": "markdown",
   "metadata": {},
   "source": [
    "Questions:\n",
    "- What is the estimated price for a house with 3000 sqft? 4889.43374804\n",
    "- How about a house with 2519 sqft? 4200.22443408\n",
    "    "
   ]
  },
  {
   "cell_type": "markdown",
   "metadata": {},
   "source": [
    "### Evaluation - Quick Evaluate the Models"
   ]
  },
  {
   "cell_type": "markdown",
   "metadata": {},
   "source": [
    "#### Evaluate the system on the test set"
   ]
  },
  {
   "cell_type": "code",
   "execution_count": 26,
   "metadata": {},
   "outputs": [],
   "source": [
    "# if you haven't loaded the package before, import the packages and methods\n",
    "from sklearn.metrics import mean_squared_error\n",
    "\n",
    "# get the predicted target based on the model and the feature in the training set\n",
    "y_predicted_train = slr_model.predict(X_train)"
   ]
  },
  {
   "cell_type": "code",
   "execution_count": 27,
   "metadata": {},
   "outputs": [
    {
     "name": "stdout",
     "output_type": "stream",
     "text": [
      "337291.1786941739\n",
      "580.7677493578426\n"
     ]
    }
   ],
   "source": [
    "# calculate the mean squared cost of the model\n",
    "mse_train = mean_squared_error(y_train,y_predicted_train)\n",
    "print(mse_train)\n",
    "\n",
    "# calculate root mean square error \n",
    "rmse_train = np.sqrt(mse_train)\n",
    "print(rmse_train)"
   ]
  },
  {
   "cell_type": "markdown",
   "metadata": {},
   "source": [
    "#### Evaluate the system on the test set"
   ]
  },
  {
   "cell_type": "code",
   "execution_count": 31,
   "metadata": {},
   "outputs": [],
   "source": [
    "# if you haven't loaded the package before, import the packages and methods\n",
    "from sklearn.metrics import mean_squared_error\n",
    "\n",
    "# get the predicted target based on the model and the feature in the training set\n",
    "y_predicted_test = slr_model.predict(X_test)\n",
    "y_predicted_train = slr_model.predict(X_train)"
   ]
  },
  {
   "cell_type": "code",
   "execution_count": 33,
   "metadata": {},
   "outputs": [
    {
     "name": "stdout",
     "output_type": "stream",
     "text": [
      "722378.1676462212\n",
      "337291.1786941739\n",
      "849.9283308880939\n",
      "580.7677493578426\n"
     ]
    }
   ],
   "source": [
    "# calculate the mean squared cost of the model\n",
    "mse_test = mean_squared_error(y_test,y_predicted_test)\n",
    "print(mse_test)\n",
    "\n",
    "mse_train = mean_squared_error(y_train,y_predicted_train)\n",
    "print(mse_train)\n",
    "\n",
    "# calculate root mean square error \n",
    "rmse_test = np.sqrt(mse_test)\n",
    "print(rmse_test)\n",
    "\n",
    "rmse_train = np.sqrt(mse_train)\n",
    "print(rmse_train)"
   ]
  },
  {
   "cell_type": "markdown",
   "metadata": {},
   "source": [
    "Question:\n",
    " - What does mean squared error mean? how far off regression line is from data points\n",
    " - Is it better to have a large mean squared error or small mean squared error? smaller\n",
    " - Compare the mean squared errors in the evaluation using training set and test set. Which one is larger? Does it make sense to you? (You may also take a look of the visualizations below.) The mean squared error of the testing data is larger."
   ]
  },
  {
   "cell_type": "markdown",
   "metadata": {},
   "source": [
    "### Visualization - Best Hypothesis and Data"
   ]
  },
  {
   "cell_type": "code",
   "execution_count": 22,
   "metadata": {},
   "outputs": [
    {
     "data": {
      "text/plain": [
       "<matplotlib.legend.Legend at 0x1eb62b8f4f0>"
      ]
     },
     "execution_count": 22,
     "metadata": {},
     "output_type": "execute_result"
    },
    {
     "data": {
      "image/png": "[encoded data removed]",
      "text/plain": [
       "<Figure size 432x288 with 1 Axes>"
      ]
     },
     "metadata": {
      "needs_background": "light"
     },
     "output_type": "display_data"
    }
   ],
   "source": [
    "### visualization of the model and training set\n",
    "lin_regplot(X_train,y_train,slr_model)\n",
    "plt.title (\"Simple Linear Regression Model\")\n",
    "plt.xlabel(\"Living Area (square feet)\")\n",
    "plt.ylabel(\"Price ($1000)\")\n",
    "plt.legend(\"h\")\n"
   ]
  },
  {
   "cell_type": "code",
   "execution_count": 23,
   "metadata": {},
   "outputs": [
    {
     "data": {
      "text/plain": [
       "<matplotlib.legend.Legend at 0x1eb657fb460>"
      ]
     },
     "execution_count": 23,
     "metadata": {},
     "output_type": "execute_result"
    },
    {
     "data": {
      "image/png": "[encoded data removed]",
      "text/plain": [
       "<Figure size 432x288 with 1 Axes>"
      ]
     },
     "metadata": {
      "needs_background": "light"
     },
     "output_type": "display_data"
    }
   ],
   "source": [
    "### visualization of the model and test set\n",
    "lin_regplot(X_test,y_test,slr_model)\n",
    "plt.title (\"Simple Linear Regression Model\")\n",
    "plt.xlabel(\"Living Area (square feet)\")\n",
    "plt.ylabel(\"Price ($1000)\")\n",
    "plt.legend(\"h\")"
   ]
  },
  {
   "cell_type": "markdown",
   "metadata": {},
   "source": [
    "## Exercises - Simple Linear Regression with External Data"
   ]
  },
  {
   "cell_type": "markdown",
   "metadata": {},
   "source": [
    "In the exercise, let's use the other feature (i.e., the number of bedroom) in the \"housing_or.csv\" data set to predict the housing price.\n",
    "\n",
    "In addition to the genderal steps (preprocessing, learning, prediction), please also do the following steps.\n",
    "\n",
    "Before fitting the hypothsis or model:\n",
    "- Remember to use some plots to explore the relationship of the feature and the target\n",
    "- Think about whether linear model is good for it\n",
    "\n",
    "After learning the hypothesis or model:\n",
    "- Briefly evluate your model with the mean square error \n",
    "- Plot the prediction line along with your data\n"
   ]
  },
  {
   "cell_type": "markdown",
   "metadata": {},
   "source": [
    "### Preprocessing"
   ]
  },
  {
   "cell_type": "markdown",
   "metadata": {},
   "source": [
    "#### Load Data"
   ]
  },
  {
   "cell_type": "code",
   "execution_count": 34,
   "metadata": {},
   "outputs": [],
   "source": [
    "# load the data from csv to python as a DataFrame\n",
    "housing_or = pd.read_csv(\"./datasets/housing_or.csv\")"
   ]
  },
  {
   "cell_type": "code",
   "execution_count": 35,
   "metadata": {},
   "outputs": [
    {
     "name": "stdout",
     "output_type": "stream",
     "text": [
      "(47, 3)\n",
      "2\n"
     ]
    }
   ],
   "source": [
    "# check the shape of the DataFrame: rows and columns\n",
    "print(housing_or.shape)\n",
    "\n",
    "# check the dimension of the DataFrame\n",
    "print(housing_or.ndim)"
   ]
  },
  {
   "cell_type": "code",
   "execution_count": 36,
   "metadata": {},
   "outputs": [
    {
     "data": {
      "text/html": [
       "<div>\n",
       "<style scoped>\n",
       "    .dataframe tbody tr th:only-of-type {\n",
       "        vertical-align: middle;\n",
       "    }\n",
       "\n",
       "    .dataframe tbody tr th {\n",
       "        vertical-align: top;\n",
       "    }\n",
       "\n",
       "    .dataframe thead th {\n",
       "        text-align: right;\n",
       "    }\n",
       "</style>\n",
       "<table border=\"1\" class=\"dataframe\">\n",
       "  <thead>\n",
       "    <tr style=\"text-align: right;\">\n",
       "      <th></th>\n",
       "      <th>living_area_ft2</th>\n",
       "      <th>bedroom_num</th>\n",
       "      <th>price_usd1000</th>\n",
       "    </tr>\n",
       "  </thead>\n",
       "  <tbody>\n",
       "    <tr>\n",
       "      <th>0</th>\n",
       "      <td>2104</td>\n",
       "      <td>3</td>\n",
       "      <td>3999.0</td>\n",
       "    </tr>\n",
       "    <tr>\n",
       "      <th>1</th>\n",
       "      <td>1600</td>\n",
       "      <td>3</td>\n",
       "      <td>3299.0</td>\n",
       "    </tr>\n",
       "    <tr>\n",
       "      <th>2</th>\n",
       "      <td>2400</td>\n",
       "      <td>3</td>\n",
       "      <td>3690.0</td>\n",
       "    </tr>\n",
       "    <tr>\n",
       "      <th>3</th>\n",
       "      <td>1416</td>\n",
       "      <td>2</td>\n",
       "      <td>2320.0</td>\n",
       "    </tr>\n",
       "    <tr>\n",
       "      <th>4</th>\n",
       "      <td>3000</td>\n",
       "      <td>4</td>\n",
       "      <td>5399.0</td>\n",
       "    </tr>\n",
       "  </tbody>\n",
       "</table>\n",
       "</div>"
      ],
      "text/plain": [
       "   living_area_ft2  bedroom_num  price_usd1000\n",
       "0             2104            3         3999.0\n",
       "1             1600            3         3299.0\n",
       "2             2400            3         3690.0\n",
       "3             1416            2         2320.0\n",
       "4             3000            4         5399.0"
      ]
     },
     "execution_count": 36,
     "metadata": {},
     "output_type": "execute_result"
    }
   ],
   "source": [
    "# check the first few, five by default, lines of the data\n",
    "housing_or.head()"
   ]
  },
  {
   "cell_type": "code",
   "execution_count": 37,
   "metadata": {},
   "outputs": [
    {
     "data": {
      "text/html": [
       "<div>\n",
       "<style scoped>\n",
       "    .dataframe tbody tr th:only-of-type {\n",
       "        vertical-align: middle;\n",
       "    }\n",
       "\n",
       "    .dataframe tbody tr th {\n",
       "        vertical-align: top;\n",
       "    }\n",
       "\n",
       "    .dataframe thead th {\n",
       "        text-align: right;\n",
       "    }\n",
       "</style>\n",
       "<table border=\"1\" class=\"dataframe\">\n",
       "  <thead>\n",
       "    <tr style=\"text-align: right;\">\n",
       "      <th></th>\n",
       "      <th>living_area_ft2</th>\n",
       "      <th>bedroom_num</th>\n",
       "      <th>price_usd1000</th>\n",
       "    </tr>\n",
       "  </thead>\n",
       "  <tbody>\n",
       "    <tr>\n",
       "      <th>42</th>\n",
       "      <td>2567</td>\n",
       "      <td>4</td>\n",
       "      <td>3140.0</td>\n",
       "    </tr>\n",
       "    <tr>\n",
       "      <th>43</th>\n",
       "      <td>1200</td>\n",
       "      <td>3</td>\n",
       "      <td>2990.0</td>\n",
       "    </tr>\n",
       "    <tr>\n",
       "      <th>44</th>\n",
       "      <td>852</td>\n",
       "      <td>2</td>\n",
       "      <td>1799.0</td>\n",
       "    </tr>\n",
       "    <tr>\n",
       "      <th>45</th>\n",
       "      <td>1852</td>\n",
       "      <td>4</td>\n",
       "      <td>2999.0</td>\n",
       "    </tr>\n",
       "    <tr>\n",
       "      <th>46</th>\n",
       "      <td>1203</td>\n",
       "      <td>3</td>\n",
       "      <td>2395.0</td>\n",
       "    </tr>\n",
       "  </tbody>\n",
       "</table>\n",
       "</div>"
      ],
      "text/plain": [
       "    living_area_ft2  bedroom_num  price_usd1000\n",
       "42             2567            4         3140.0\n",
       "43             1200            3         2990.0\n",
       "44              852            2         1799.0\n",
       "45             1852            4         2999.0\n",
       "46             1203            3         2395.0"
      ]
     },
     "execution_count": 37,
     "metadata": {},
     "output_type": "execute_result"
    }
   ],
   "source": [
    "# check the last few, five by default, lines of the data\n",
    "housing_or.tail()"
   ]
  },
  {
   "cell_type": "markdown",
   "metadata": {},
   "source": [
    "##### Explore the Data \n",
    "To have some ideas about data and estimation about possible model before fitting the model. After fitting the model, you will be able to identify whether the model built making sense or not. "
   ]
  },
  {
   "cell_type": "code",
   "execution_count": 38,
   "metadata": {},
   "outputs": [
    {
     "data": {
      "text/html": [
       "<div>\n",
       "<style scoped>\n",
       "    .dataframe tbody tr th:only-of-type {\n",
       "        vertical-align: middle;\n",
       "    }\n",
       "\n",
       "    .dataframe tbody tr th {\n",
       "        vertical-align: top;\n",
       "    }\n",
       "\n",
       "    .dataframe thead th {\n",
       "        text-align: right;\n",
       "    }\n",
       "</style>\n",
       "<table border=\"1\" class=\"dataframe\">\n",
       "  <thead>\n",
       "    <tr style=\"text-align: right;\">\n",
       "      <th></th>\n",
       "      <th>living_area_ft2</th>\n",
       "      <th>bedroom_num</th>\n",
       "      <th>price_usd1000</th>\n",
       "    </tr>\n",
       "  </thead>\n",
       "  <tbody>\n",
       "    <tr>\n",
       "      <th>count</th>\n",
       "      <td>47.000000</td>\n",
       "      <td>47.000000</td>\n",
       "      <td>47.000000</td>\n",
       "    </tr>\n",
       "    <tr>\n",
       "      <th>mean</th>\n",
       "      <td>2000.680851</td>\n",
       "      <td>3.170213</td>\n",
       "      <td>3404.126596</td>\n",
       "    </tr>\n",
       "    <tr>\n",
       "      <th>std</th>\n",
       "      <td>794.702354</td>\n",
       "      <td>0.760982</td>\n",
       "      <td>1250.398996</td>\n",
       "    </tr>\n",
       "    <tr>\n",
       "      <th>min</th>\n",
       "      <td>852.000000</td>\n",
       "      <td>1.000000</td>\n",
       "      <td>1699.000000</td>\n",
       "    </tr>\n",
       "    <tr>\n",
       "      <th>25%</th>\n",
       "      <td>1432.000000</td>\n",
       "      <td>3.000000</td>\n",
       "      <td>2499.000000</td>\n",
       "    </tr>\n",
       "    <tr>\n",
       "      <th>50%</th>\n",
       "      <td>1888.000000</td>\n",
       "      <td>3.000000</td>\n",
       "      <td>2999.000000</td>\n",
       "    </tr>\n",
       "    <tr>\n",
       "      <th>75%</th>\n",
       "      <td>2269.000000</td>\n",
       "      <td>4.000000</td>\n",
       "      <td>3844.500000</td>\n",
       "    </tr>\n",
       "    <tr>\n",
       "      <th>max</th>\n",
       "      <td>4478.000000</td>\n",
       "      <td>5.000000</td>\n",
       "      <td>6999.000000</td>\n",
       "    </tr>\n",
       "  </tbody>\n",
       "</table>\n",
       "</div>"
      ],
      "text/plain": [
       "       living_area_ft2  bedroom_num  price_usd1000\n",
       "count        47.000000    47.000000      47.000000\n",
       "mean       2000.680851     3.170213    3404.126596\n",
       "std         794.702354     0.760982    1250.398996\n",
       "min         852.000000     1.000000    1699.000000\n",
       "25%        1432.000000     3.000000    2499.000000\n",
       "50%        1888.000000     3.000000    2999.000000\n",
       "75%        2269.000000     4.000000    3844.500000\n",
       "max        4478.000000     5.000000    6999.000000"
      ]
     },
     "execution_count": 38,
     "metadata": {},
     "output_type": "execute_result"
    }
   ],
   "source": [
    "# summarize of the variables in the DataFrame\n",
    "housing_or.describe()"
   ]
  },
  {
   "cell_type": "code",
   "execution_count": 39,
   "metadata": {},
   "outputs": [
    {
     "data": {
      "text/plain": [
       "array([[<AxesSubplot:title={'center':'living_area_ft2'}>,\n",
       "        <AxesSubplot:title={'center':'bedroom_num'}>],\n",
       "       [<AxesSubplot:title={'center':'price_usd1000'}>, <AxesSubplot:>]],\n",
       "      dtype=object)"
      ]
     },
     "execution_count": 39,
     "metadata": {},
     "output_type": "execute_result"
    },
    {
     "data": {
      "image/png": "[encoded data removed]",
      "text/plain": [
       "<Figure size 432x288 with 4 Axes>"
      ]
     },
     "metadata": {
      "needs_background": "light"
     },
     "output_type": "display_data"
    }
   ],
   "source": [
    "# visualize the data: display histogram of each variables\n",
    "# using pandas \n",
    "housing_or.hist()"
   ]
  },
  {
   "cell_type": "code",
   "execution_count": 40,
   "metadata": {},
   "outputs": [
    {
     "data": {
      "text/plain": [
       "(array([ 5., 11.,  9., 11.,  5.,  1.,  2.,  0.,  1.,  2.]),\n",
       " array([ 852. , 1214.6, 1577.2, 1939.8, 2302.4, 2665. , 3027.6, 3390.2,\n",
       "        3752.8, 4115.4, 4478. ]),\n",
       " <BarContainer object of 10 artists>)"
      ]
     },
     "execution_count": 40,
     "metadata": {},
     "output_type": "execute_result"
    },
    {
     "data": {
      "image/png": "[encoded data removed]",
      "text/plain": [
       "<Figure size 432x288 with 1 Axes>"
      ]
     },
     "metadata": {
      "needs_background": "light"
     },
     "output_type": "display_data"
    }
   ],
   "source": [
    "# visualize the data: display histogram of specific variable\n",
    "# using matlibplot \n",
    "plt.hist(housing_or['living_area_ft2'])"
   ]
  },
  {
   "cell_type": "code",
   "execution_count": 41,
   "metadata": {},
   "outputs": [
    {
     "data": {
      "text/plain": [
       "array([[<AxesSubplot:xlabel='living_area_ft2', ylabel='living_area_ft2'>,\n",
       "        <AxesSubplot:xlabel='bedroom_num', ylabel='living_area_ft2'>,\n",
       "        <AxesSubplot:xlabel='price_usd1000', ylabel='living_area_ft2'>],\n",
       "       [<AxesSubplot:xlabel='living_area_ft2', ylabel='bedroom_num'>,\n",
       "        <AxesSubplot:xlabel='bedroom_num', ylabel='bedroom_num'>,\n",
       "        <AxesSubplot:xlabel='price_usd1000', ylabel='bedroom_num'>],\n",
       "       [<AxesSubplot:xlabel='living_area_ft2', ylabel='price_usd1000'>,\n",
       "        <AxesSubplot:xlabel='bedroom_num', ylabel='price_usd1000'>,\n",
       "        <AxesSubplot:xlabel='price_usd1000', ylabel='price_usd1000'>]],\n",
       "      dtype=object)"
      ]
     },
     "execution_count": 41,
     "metadata": {},
     "output_type": "execute_result"
    },
    {
     "data": {
      "image/png": "[encoded data removed]",
      "text/plain": [
       "<Figure size 432x288 with 9 Axes>"
      ]
     },
     "metadata": {
      "needs_background": "light"
     },
     "output_type": "display_data"
    }
   ],
   "source": [
    "# visualize each variables and the relationship between each variables\n",
    "from pandas.plotting import scatter_matrix\n",
    "scatter_matrix(housing_or[['living_area_ft2','bedroom_num','price_usd1000']])"
   ]
  },
  {
   "cell_type": "code",
   "execution_count": 42,
   "metadata": {},
   "outputs": [
    {
     "data": {
      "text/plain": [
       "Text(0, 0.5, 'Price ($1000)')"
      ]
     },
     "execution_count": 42,
     "metadata": {},
     "output_type": "execute_result"
    },
    {
     "data": {
      "image/png": "[encoded data removed]",
      "text/plain": [
       "<Figure size 432x288 with 1 Axes>"
      ]
     },
     "metadata": {
      "needs_background": "light"
     },
     "output_type": "display_data"
    }
   ],
   "source": [
    "# visualize the realtionship between the feature and target\n",
    "plt.scatter(housing_or['living_area_ft2'], housing_or['price_usd1000'])\n",
    "plt.title(\"Portland OR Housing Prices\")\n",
    "plt.xlabel(\"Living Area (square feet)\")\n",
    "plt.ylabel(\"Price ($1000)\")"
   ]
  },
  {
   "cell_type": "markdown",
   "metadata": {},
   "source": [
    "##### Assign Features and Target Values to Variables"
   ]
  },
  {
   "cell_type": "code",
   "execution_count": 43,
   "metadata": {},
   "outputs": [],
   "source": [
    "# get the proper column using the index and assign the column to the proper variable\n",
    "X = housing_or[\"bedroom_num\"].values\n",
    "y = housing_or[\"price_usd1000\"].values"
   ]
  },
  {
   "cell_type": "code",
   "execution_count": 44,
   "metadata": {},
   "outputs": [
    {
     "name": "stdout",
     "output_type": "stream",
     "text": [
      "(47,)\n",
      "(47,)\n"
     ]
    }
   ],
   "source": [
    "# check the shape and dimension of the data\n",
    "print(X.shape)\n",
    "print(y.shape)"
   ]
  },
  {
   "cell_type": "code",
   "execution_count": 45,
   "metadata": {},
   "outputs": [
    {
     "name": "stdout",
     "output_type": "stream",
     "text": [
      "(47, 1)\n"
     ]
    }
   ],
   "source": [
    "# reshape the features to a proper format (vector or matrix) for the learning model \n",
    "X = X.reshape(-1,1)\n",
    "print(X.shape)"
   ]
  },
  {
   "cell_type": "markdown",
   "metadata": {},
   "source": [
    "#### Split training samples into training set and test set"
   ]
  },
  {
   "cell_type": "code",
   "execution_count": 46,
   "metadata": {},
   "outputs": [],
   "source": [
    "# load necessary package and methods\n",
    "from sklearn.model_selection import train_test_split\n",
    "\n",
    "# split the training data into training set and test set\n",
    "X_train, X_test, y_train, y_test = train_test_split(\n",
    "    X, y, test_size=0.2, random_state=1)"
   ]
  },
  {
   "cell_type": "code",
   "execution_count": 47,
   "metadata": {},
   "outputs": [
    {
     "data": {
      "text/plain": [
       "(37, 1)"
      ]
     },
     "execution_count": 47,
     "metadata": {},
     "output_type": "execute_result"
    }
   ],
   "source": [
    "X_train.shape"
   ]
  },
  {
   "cell_type": "markdown",
   "metadata": {},
   "source": [
    "### Learning - Training a Simple Regression Model\n",
    "Fit or train a simple regression model"
   ]
  },
  {
   "cell_type": "code",
   "execution_count": 48,
   "metadata": {},
   "outputs": [
    {
     "data": {
      "text/plain": [
       "LinearRegression()"
      ]
     },
     "execution_count": 48,
     "metadata": {},
     "output_type": "execute_result"
    }
   ],
   "source": [
    "# if you haven't loaded the package before, import the packages and methods\n",
    "from sklearn.linear_model import LinearRegression\n",
    "\n",
    "# build a linear regression model\n",
    "# set the regression\n",
    "slr_model = LinearRegression()\n",
    "\n",
    "# fit the model with training set\n",
    "slr_model.fit(X_train,y_train)\n"
   ]
  },
  {
   "cell_type": "code",
   "execution_count": 49,
   "metadata": {},
   "outputs": [
    {
     "name": "stdout",
     "output_type": "stream",
     "text": [
      "intercept: 765.2939084507038\n",
      "slope: [840.50491784]\n",
      "score: 0.26576241002101897\n"
     ]
    }
   ],
   "source": [
    "# show the result of learning: information about the model\n",
    "print('intercept:', slr_model.intercept_)\n",
    "print('slope:', slr_model.coef_)\n",
    "\n",
    "print('score:', slr_model.score(X_train,y_train))"
   ]
  },
  {
   "cell_type": "markdown",
   "metadata": {},
   "source": [
    "### Prediction\n",
    "Predict the target value for new x values (or new features)\n",
    "Please pick a value for the number of bedroom you would like to make a prediction with"
   ]
  },
  {
   "cell_type": "code",
   "execution_count": 50,
   "metadata": {},
   "outputs": [
    {
     "name": "stdout",
     "output_type": "stream",
     "text": [
      "[3286.80866197]\n"
     ]
    }
   ],
   "source": [
    "X_new = [[3]]\n",
    "print(slr_model.predict(X_new))"
   ]
  },
  {
   "cell_type": "markdown",
   "metadata": {},
   "source": [
    "### Evaluation - Quick Evaluate the Models"
   ]
  },
  {
   "cell_type": "code",
   "execution_count": 51,
   "metadata": {},
   "outputs": [],
   "source": [
    "# if you haven't loaded the package before, import the packages and methods\n",
    "from sklearn.metrics import mean_squared_error\n",
    "\n",
    "# get the predicted target based on the model and the feature in the training set\n",
    "y_predicted_train = slr_model.predict(X_train)"
   ]
  },
  {
   "cell_type": "code",
   "execution_count": 52,
   "metadata": {},
   "outputs": [
    {
     "name": "stdout",
     "output_type": "stream",
     "text": [
      "1214673.9726170886\n",
      "1102.1224853060066\n"
     ]
    }
   ],
   "source": [
    "# calculate the mean squared cost of the model\n",
    "mse_train = mean_squared_error(y_train,y_predicted_train)\n",
    "print(mse_train)\n",
    "\n",
    "# calculate root mean square error \n",
    "rmse_train = np.sqrt(mse_train)\n",
    "print(rmse_train)"
   ]
  },
  {
   "cell_type": "markdown",
   "metadata": {},
   "source": [
    "#### Evaluate the system on the test set"
   ]
  },
  {
   "cell_type": "code",
   "execution_count": 53,
   "metadata": {},
   "outputs": [],
   "source": [
    "# if you haven't loaded the package before, import the packages and methods\n",
    "from sklearn.metrics import mean_squared_error\n",
    "\n",
    "# get the predicted target based on the model and the feature in the training set\n",
    "y_predicted_test = slr_model.predict(X_test)\n",
    "y_predicted_train = slr_model.predict(X_train)"
   ]
  },
  {
   "cell_type": "code",
   "execution_count": 54,
   "metadata": {},
   "outputs": [
    {
     "name": "stdout",
     "output_type": "stream",
     "text": [
      "1328678.040698927\n",
      "1214673.9726170886\n",
      "1152.682974932365\n",
      "1102.1224853060066\n"
     ]
    }
   ],
   "source": [
    "# calculate the mean squared cost of the model\n",
    "mse_test = mean_squared_error(y_test,y_predicted_test)\n",
    "print(mse_test)\n",
    "\n",
    "mse_train = mean_squared_error(y_train,y_predicted_train)\n",
    "print(mse_train)\n",
    "\n",
    "# calculate root mean square error \n",
    "rmse_test = np.sqrt(mse_test)\n",
    "print(rmse_test)\n",
    "\n",
    "rmse_train = np.sqrt(mse_train)\n",
    "print(rmse_train)"
   ]
  },
  {
   "cell_type": "markdown",
   "metadata": {},
   "source": [
    "### Visualization - Best Hypothesis and Data"
   ]
  },
  {
   "cell_type": "code",
   "execution_count": 56,
   "metadata": {},
   "outputs": [
    {
     "data": {
      "text/plain": [
       "<matplotlib.legend.Legend at 0x1eb65d6f880>"
      ]
     },
     "execution_count": 56,
     "metadata": {},
     "output_type": "execute_result"
    },
    {
     "data": {
      "image/png": "[encoded data removed]",
      "text/plain": [
       "<Figure size 432x288 with 1 Axes>"
      ]
     },
     "metadata": {
      "needs_background": "light"
     },
     "output_type": "display_data"
    }
   ],
   "source": [
    "### visualization of the model and training set\n",
    "lin_regplot(X_train,y_train,slr_model)\n",
    "plt.title (\"Simple Linear Regression Model\")\n",
    "plt.xlabel(\"Number of Bedrooms\")\n",
    "plt.ylabel(\"Price ($1000)\")\n",
    "plt.legend(\"h\")"
   ]
  },
  {
   "cell_type": "code",
   "execution_count": 57,
   "metadata": {},
   "outputs": [
    {
     "data": {
      "text/plain": [
       "<matplotlib.legend.Legend at 0x1eb65ddf8e0>"
      ]
     },
     "execution_count": 57,
     "metadata": {},
     "output_type": "execute_result"
    },
    {
     "data": {
      "image/png": "[encoded data removed]",
      "text/plain": [
       "<Figure size 432x288 with 1 Axes>"
      ]
     },
     "metadata": {
      "needs_background": "light"
     },
     "output_type": "display_data"
    }
   ],
   "source": [
    "### visualization of the model and test set\n",
    "lin_regplot(X_test,y_test,slr_model)\n",
    "plt.title (\"Simple Linear Regression Model\")\n",
    "plt.xlabel(\"Number of Bedrooms\")\n",
    "plt.ylabel(\"Price ($1000)\")\n",
    "plt.legend(\"h\")"
   ]
  },
  {
   "cell_type": "markdown",
   "metadata": {},
   "source": [
    "Questions:\n",
    "- Do you think the number of bedroom alone is a good feature to use to predict the price of a house? No, because the data is not spread out and the predictions are not as accurate. \n",
    "- Comapring the evaluation of the model with the number of bedroom and that model with the living area, which model do you think performs better or makes better prediction? The model with the living area performs better. This can be seen in the mean squared errors.\n"
   ]
  },
  {
   "cell_type": "code",
   "execution_count": null,
   "metadata": {},
   "outputs": [],
   "source": []
  }
 ],
 "metadata": {
  "kernelspec": {
   "display_name": "Python 3",
   "language": "python",
   "name": "python3"
  },
  "language_info": {
   "codemirror_mode": {
    "name": "ipython",
    "version": 3
   },
   "file_extension": ".py",
   "mimetype": "text/x-python",
   "name": "python",
   "nbconvert_exporter": "python",
   "pygments_lexer": "ipython3",
   "version": "3.8.5"
  }
 },
 "nbformat": 4,
 "nbformat_minor": 2
}
