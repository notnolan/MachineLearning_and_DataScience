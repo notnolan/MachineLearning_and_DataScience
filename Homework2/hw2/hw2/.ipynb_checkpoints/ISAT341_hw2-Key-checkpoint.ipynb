{
 "cells": [
  {
   "cell_type": "markdown",
   "metadata": {},
   "source": [
    "# Homework Two - Classification\n",
    "## Objective\n",
    "\n",
    "As a result of completing this exercise you should be able to:\n",
    "\n",
    "- Understand the concept of Classification (binary and multi-class classifier)\n",
    "- Understand the basic idea of K Nearest Neighbors (KNN)\n",
    "- Understand the basic idea of Decision Tree\n",
    "- Understand the basic idea of Support Vector Machine (SVM)\n",
    "- Process external and real-world data properly\n",
    "- Build the above classification models using `scikit-learn`\n",
    "- Do quick model evaluation using classification reports using `scikit-learn`"
   ]
  },
  {
   "cell_type": "markdown",
   "metadata": {},
   "source": [
    "## Instructions\n",
    "\n",
    "### Section\n",
    "This homework includes three coding sections (one section for one learning algorithm) and one disucssion sectioni. You will build classification models using different approaches (i.e., KNN, decision tree, and SVM) with sickit-learn module in Python . \n",
    "\n",
    "### Submission\n",
    "The assignment should be submitted on Canvas. You will submit a zip file containing a single Jupyter Notebook(ipynb file) and two subfolders (\"images\" and \"datasets\"). In the \"datasets\" folder, please include the data set used for this assignment. In the \"images\" folder, please include any images used or created for this assignment.  \n",
    "\n",
    "- Name you zip file as ISAT341_hw2_$\\lt$your JMU eid$\\gt$.ipynb. For example, Dr. Yang's eid is yang4cx, then the  submission would be ISAT341_hw2_yang4cx.zip\n",
    "\n",
    "### Some useful webpage from Scikit-Learn library\n",
    "- https://scikit-learn.org/stable/tutorial/basic/tutorial.html\n",
    "- https://scikit-learn.org/stable/tutorial/statistical_inference/settings.html\n",
    "- https://scikit-learn.org/stable/modules/neighbors.html\n",
    "- https://scikit-learn.org/stable/modules/tree.html\n",
    "- https://scikit-learn.org/stable/modules/svm.html"
   ]
  },
  {
   "cell_type": "markdown",
   "metadata": {},
   "source": [
    "## Dataset\n",
    "\n",
    "In this assignment, we will apply diverse classficiation models to an external dataset to classify glass. Imagine that you are working for CSI. Your colleagues hand you some samples of glass from some crime scene and you are asked to figure out what type of glass are they.\n",
    "\n",
    "Please build predictive models that answers the question: \"Which type of glass does a sample belong to\" using the glass data (i.e., refractive index, sodium, ..., and iron) and the machine learning algorithms we have learned.\n",
    "\n",
    "Data source:\n",
    "The data are from Kaggle and more details as well as data description can be found at https://www.kaggle.com/uciml/glass. (The dataset is the \"glass.csv\" on the website)"
   ]
  },
  {
   "cell_type": "markdown",
   "metadata": {},
   "source": [
    "## Section I: KNN"
   ]
  },
  {
   "cell_type": "markdown",
   "metadata": {},
   "source": [
    "### Preprocessing"
   ]
  },
  {
   "cell_type": "code",
   "execution_count": null,
   "metadata": {},
   "outputs": [],
   "source": []
  },
  {
   "cell_type": "markdown",
   "metadata": {},
   "source": [
    "### Learning - Training a KNN model"
   ]
  },
  {
   "cell_type": "code",
   "execution_count": null,
   "metadata": {},
   "outputs": [],
   "source": []
  },
  {
   "cell_type": "markdown",
   "metadata": {},
   "source": [
    "### Prediction"
   ]
  },
  {
   "cell_type": "markdown",
   "metadata": {},
   "source": [
    "Predict the label or class for a new sample with features as"
   ]
  },
  {
   "cell_type": "code",
   "execution_count": null,
   "metadata": {},
   "outputs": [],
   "source": []
  },
  {
   "cell_type": "markdown",
   "metadata": {},
   "source": [
    "Predict the label or class for all the samples in the test set"
   ]
  },
  {
   "cell_type": "code",
   "execution_count": null,
   "metadata": {},
   "outputs": [],
   "source": []
  },
  {
   "cell_type": "markdown",
   "metadata": {},
   "source": [
    "### Classification Report"
   ]
  },
  {
   "cell_type": "code",
   "execution_count": null,
   "metadata": {},
   "outputs": [],
   "source": []
  },
  {
   "cell_type": "markdown",
   "metadata": {},
   "source": [
    "## Section II: Decision Tree"
   ]
  },
  {
   "cell_type": "markdown",
   "metadata": {},
   "source": [
    "### Preprocessing"
   ]
  },
  {
   "cell_type": "code",
   "execution_count": null,
   "metadata": {},
   "outputs": [],
   "source": []
  },
  {
   "cell_type": "markdown",
   "metadata": {},
   "source": [
    "### Learning - Training a KNN model"
   ]
  },
  {
   "cell_type": "code",
   "execution_count": null,
   "metadata": {},
   "outputs": [],
   "source": []
  },
  {
   "cell_type": "markdown",
   "metadata": {},
   "source": [
    "### Prediction"
   ]
  },
  {
   "cell_type": "markdown",
   "metadata": {},
   "source": [
    "Predict the label or class for a new sample with features as"
   ]
  },
  {
   "cell_type": "code",
   "execution_count": null,
   "metadata": {},
   "outputs": [],
   "source": []
  },
  {
   "cell_type": "markdown",
   "metadata": {},
   "source": [
    "Predict the label or class for all the samples in the test set"
   ]
  },
  {
   "cell_type": "code",
   "execution_count": null,
   "metadata": {},
   "outputs": [],
   "source": []
  },
  {
   "cell_type": "markdown",
   "metadata": {},
   "source": [
    "### Classification Report"
   ]
  },
  {
   "cell_type": "code",
   "execution_count": null,
   "metadata": {},
   "outputs": [],
   "source": []
  },
  {
   "cell_type": "markdown",
   "metadata": {},
   "source": [
    "### Present the Decision Tree\n",
    "Please disply the decision tree structure on the screen and save it to either a pdf, jpeg, or png file."
   ]
  },
  {
   "cell_type": "code",
   "execution_count": null,
   "metadata": {},
   "outputs": [],
   "source": []
  },
  {
   "cell_type": "markdown",
   "metadata": {},
   "source": [
    "## Section III: SVM"
   ]
  },
  {
   "cell_type": "markdown",
   "metadata": {},
   "source": [
    "### Preprocessing"
   ]
  },
  {
   "cell_type": "code",
   "execution_count": null,
   "metadata": {},
   "outputs": [],
   "source": []
  },
  {
   "cell_type": "markdown",
   "metadata": {},
   "source": [
    "### Learning - Training a KNN model"
   ]
  },
  {
   "cell_type": "code",
   "execution_count": null,
   "metadata": {},
   "outputs": [],
   "source": []
  },
  {
   "cell_type": "markdown",
   "metadata": {},
   "source": [
    "### Prediction"
   ]
  },
  {
   "cell_type": "markdown",
   "metadata": {},
   "source": [
    "Predict the label or class for a new sample with features as"
   ]
  },
  {
   "cell_type": "code",
   "execution_count": null,
   "metadata": {},
   "outputs": [],
   "source": []
  },
  {
   "cell_type": "markdown",
   "metadata": {},
   "source": [
    "Predict the label or class for all the samples in the test set"
   ]
  },
  {
   "cell_type": "code",
   "execution_count": null,
   "metadata": {},
   "outputs": [],
   "source": []
  },
  {
   "cell_type": "markdown",
   "metadata": {},
   "source": [
    "### Classification Report"
   ]
  },
  {
   "cell_type": "code",
   "execution_count": null,
   "metadata": {},
   "outputs": [],
   "source": []
  },
  {
   "cell_type": "markdown",
   "metadata": {},
   "source": [
    "## Section IV: Discussion"
   ]
  },
  {
   "cell_type": "markdown",
   "metadata": {},
   "source": [
    "### Question 1: Describe traing samples\n",
    "- How many observations? \n",
    "- How many features each observation has? \n",
    "- What did you include in your features? Why and Why not?\n",
    "- What did you use for the label or target value?\n",
    "\n",
    "Please answer those questions in the cell below."
   ]
  },
  {
   "cell_type": "markdown",
   "metadata": {},
   "source": []
  },
  {
   "cell_type": "markdown",
   "metadata": {},
   "source": [
    "### Question 2: Explore insights from the model - KNN\n",
    "- How many neighbhors did you consider in the model you built?\n",
    "- Why did you select the number? Have you changed the numbers? \n",
    "- Which distance function did you use in the model you built?\n",
    "- Why did you select that model ? Have you tried other distance?\n",
    "- Did any changes in the parameters or arguments make your preidction or classificaton report different?\n",
    "- How do you or can you fine tune the KNN model?\n",
    "\n",
    "Please answer those questions in the cell below."
   ]
  },
  {
   "cell_type": "markdown",
   "metadata": {},
   "source": []
  },
  {
   "cell_type": "markdown",
   "metadata": {},
   "source": [
    "### Question 3: Explore insights from the model - Decision Tree\n",
    "- What is the maximum depth in the model you built?\n",
    "- Why did you selecet the number of depth?\n",
    "- Did any changes in the parameters or arguments make your preidction or classificaton report different?\n",
    "- How do you or can you fine tune the Decision Tree model?\n",
    "- Based on your tree structure (the plot), which feature may be the most importnat feature to make the prediction?\n",
    "\n",
    "Please answer those questions in the cell below."
   ]
  },
  {
   "cell_type": "markdown",
   "metadata": {},
   "source": []
  },
  {
   "cell_type": "markdown",
   "metadata": {},
   "source": [
    "### Question 4: Explore insights from the model - SVM\n",
    "- Which kernel did you use in the model you built?\n",
    "- Why did you select the kernel? Have you tried other kernel?\n",
    "- Did any changes in the parameters or arguments make your preidction or classificaton report different?\n",
    "- How do you or can you fine tune the SVM model?"
   ]
  },
  {
   "cell_type": "markdown",
   "metadata": {},
   "source": []
  },
  {
   "cell_type": "markdown",
   "metadata": {},
   "source": [
    "### Question 5: Compare learning algorithm\n",
    "For each learning algorithm:\n",
    " - What are the strengths or drawbacks?\n",
    " - Based on those pros and cons, which learning algorithm(s) may be proper to use? \n",
    " - How do those pros and cons affect your analyze in this assignment?\n",
    "\n",
    "Please answer those questions in the cell below."
   ]
  },
  {
   "cell_type": "markdown",
   "metadata": {},
   "source": []
  },
  {
   "cell_type": "markdown",
   "metadata": {},
   "source": [
    "### Question 6: Eavluate the models\n",
    "From your classification report:\n",
    "- Which model perform the best for this dataset? Why?\n",
    "- Which model perform the worst for this dataset? Why?\n",
    "\n",
    "Please answer those questions in the cell below."
   ]
  },
  {
   "cell_type": "markdown",
   "metadata": {},
   "source": []
  },
  {
   "cell_type": "markdown",
   "metadata": {},
   "source": [
    "### Question 7: Reflect your expereience\n",
    "When you learn and implement those classification models:\n",
    "- What is/are the most interesting part(s) for you?\n",
    "- What is/are the most challenging part(s) for you?\n",
    "- What is/are the not so fun part(s) for you?\n",
    "\n",
    "Please answer those questions in the cell below."
   ]
  },
  {
   "cell_type": "markdown",
   "metadata": {},
   "source": []
  },
  {
   "cell_type": "markdown",
   "metadata": {},
   "source": [
    "### Question 8: Imagine possible applications or future work \n",
    "Now, you have learned several fundemental classification learning algrithms:\n",
    "- What problems or applications (either in daily life, at work, in school, or...) do you want to use the computer to solve/do for you using those machine learning classificaton?\n",
    "- To be able to solve the above problems or to buld the applications, what kind of data or information you may need?\n",
    "\n",
    "Please answer those questions in the cell below."
   ]
  },
  {
   "cell_type": "markdown",
   "metadata": {},
   "source": []
  }
 ],
 "metadata": {
  "kernelspec": {
   "display_name": "Python 3",
   "language": "python",
   "name": "python3"
  },
  "language_info": {
   "codemirror_mode": {
    "name": "ipython",
    "version": 3
   },
   "file_extension": ".py",
   "mimetype": "text/x-python",
   "name": "python",
   "nbconvert_exporter": "python",
   "pygments_lexer": "ipython3",
   "version": "3.8.5"
  }
 },
 "nbformat": 4,
 "nbformat_minor": 2
}
