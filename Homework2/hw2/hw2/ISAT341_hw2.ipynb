{
 "cells": [
  {
   "cell_type": "markdown",
   "metadata": {},
   "source": [
    "# Homework Two - Classification\n",
    "## Objective\n",
    "\n",
    "As a result of completing this exercise you should be able to:\n",
    "\n",
    "- Understand the concept of Classification (binary and multi-class classifier)\n",
    "- Understand the concept of K Nearest Neighbors (KNN)\n",
    "- Understand the concept of Decision Tree\n",
    "- Understand the concept of Support Vector Machine (SVM)\n",
    "- Process external and real-world data properly\n",
    "- Build the classification models using above learning algorithms using `scikit-learn`\n",
    "- Do model evaluation using classification reports using `scikit-learn`"
   ]
  },
  {
   "cell_type": "markdown",
   "metadata": {},
   "source": [
    "## Instructions\n",
    "\n",
    "### Section\n",
    "This homework includes three coding sections (one section for one learning algorithm) and one disucssion sectioni. You will build classification models using different approaches (i.e., KNN, decision tree, and SVM) with sickit-learn module in Python . \n",
    "\n",
    "### Submission\n",
    "The assignment should be submitted on Canvas. You will submit a zip file containing a single Jupyter Notebook(ipynb file) and two subfolders (\"images\" and \"datasets\"). In the \"datasets\" folder, please include the data set used for this assignment. In the \"images\" folder, please include any images used or created for this assignment.  \n",
    "\n",
    "- Name you zip file as hw2_$\\lt$your JMU eid$\\gt$.zip. For example, Dr. Yang's eid is yang4cx, then the submission would be hw2_yang4cx.zip\n",
    "- Please make sure your zip file is in a valid format and can be unzip before your sumbit it\n",
    "\n",
    "### Some useful webpage from Scikit-Learn library\n",
    "- https://scikit-learn.org/stable/tutorial/basic/tutorial.html\n",
    "- https://scikit-learn.org/stable/tutorial/statistical_inference/settings.html\n",
    "- https://scikit-learn.org/stable/modules/neighbors.html\n",
    "- https://scikit-learn.org/stable/modules/tree.html\n",
    "- https://scikit-learn.org/stable/modules/svm.html"
   ]
  },
  {
   "cell_type": "markdown",
   "metadata": {},
   "source": [
    "## Dataset\n",
    "\n",
    "In this assignment, we will apply diverse classficiation models to an external dataset to classify glass. Imagine that you are working for CSI. Your colleagues hand you some samples of glass from some crime scene and you are asked to figure out what type of glass are they.\n",
    "\n",
    "Please build predictive models that answers the question: \"Which type of glass does a sample belong to\" using the glass data (i.e., refractive index, sodium, ..., and iron) and the machine learning algorithms we have learned.\n",
    "\n",
    "<a id=\"datasource\"></a>\n",
    "\n",
    "### Data source:\n",
    "The data are from Kaggle and more details as well as data description can be found at https://www.kaggle.com/uciml/glass. (The dataset is the \"glass.csv\" on the website)"
   ]
  },
  {
   "cell_type": "markdown",
   "metadata": {},
   "source": [
    "## Section I: KNN"
   ]
  },
  {
   "cell_type": "markdown",
   "metadata": {},
   "source": [
    "### Preprocessing"
   ]
  },
  {
   "cell_type": "code",
   "execution_count": 26,
   "metadata": {},
   "outputs": [],
   "source": [
    "import numpy as np\n",
    "import pandas as pd\n",
    "import matplotlib.pyplot as plt\n",
    "from matplotlib.colors import ListedColormap\n",
    "from sklearn import neighbors, datasets\n",
    "from sklearn.neighbors import DistanceMetric\n",
    "from sklearn.model_selection import train_test_split\n",
    "from sklearn.metrics import classification_report\n",
    "\n",
    "import warnings\n",
    "warnings.filterwarnings('ignore')"
   ]
  },
  {
   "cell_type": "code",
   "execution_count": 27,
   "metadata": {},
   "outputs": [
    {
     "name": "stdout",
     "output_type": "stream",
     "text": [
      "(214, 10)\n"
     ]
    },
    {
     "data": {
      "text/html": [
       "<div>\n",
       "<style scoped>\n",
       "    .dataframe tbody tr th:only-of-type {\n",
       "        vertical-align: middle;\n",
       "    }\n",
       "\n",
       "    .dataframe tbody tr th {\n",
       "        vertical-align: top;\n",
       "    }\n",
       "\n",
       "    .dataframe thead th {\n",
       "        text-align: right;\n",
       "    }\n",
       "</style>\n",
       "<table border=\"1\" class=\"dataframe\">\n",
       "  <thead>\n",
       "    <tr style=\"text-align: right;\">\n",
       "      <th></th>\n",
       "      <th>RI</th>\n",
       "      <th>Na</th>\n",
       "      <th>Mg</th>\n",
       "      <th>Al</th>\n",
       "      <th>Si</th>\n",
       "      <th>K</th>\n",
       "      <th>Ca</th>\n",
       "      <th>Ba</th>\n",
       "      <th>Fe</th>\n",
       "      <th>Type</th>\n",
       "    </tr>\n",
       "  </thead>\n",
       "  <tbody>\n",
       "    <tr>\n",
       "      <th>0</th>\n",
       "      <td>1.52101</td>\n",
       "      <td>13.64</td>\n",
       "      <td>4.49</td>\n",
       "      <td>1.10</td>\n",
       "      <td>71.78</td>\n",
       "      <td>0.06</td>\n",
       "      <td>8.75</td>\n",
       "      <td>0.0</td>\n",
       "      <td>0.0</td>\n",
       "      <td>1</td>\n",
       "    </tr>\n",
       "    <tr>\n",
       "      <th>1</th>\n",
       "      <td>1.51761</td>\n",
       "      <td>13.89</td>\n",
       "      <td>3.60</td>\n",
       "      <td>1.36</td>\n",
       "      <td>72.73</td>\n",
       "      <td>0.48</td>\n",
       "      <td>7.83</td>\n",
       "      <td>0.0</td>\n",
       "      <td>0.0</td>\n",
       "      <td>1</td>\n",
       "    </tr>\n",
       "    <tr>\n",
       "      <th>2</th>\n",
       "      <td>1.51618</td>\n",
       "      <td>13.53</td>\n",
       "      <td>3.55</td>\n",
       "      <td>1.54</td>\n",
       "      <td>72.99</td>\n",
       "      <td>0.39</td>\n",
       "      <td>7.78</td>\n",
       "      <td>0.0</td>\n",
       "      <td>0.0</td>\n",
       "      <td>1</td>\n",
       "    </tr>\n",
       "    <tr>\n",
       "      <th>3</th>\n",
       "      <td>1.51766</td>\n",
       "      <td>13.21</td>\n",
       "      <td>3.69</td>\n",
       "      <td>1.29</td>\n",
       "      <td>72.61</td>\n",
       "      <td>0.57</td>\n",
       "      <td>8.22</td>\n",
       "      <td>0.0</td>\n",
       "      <td>0.0</td>\n",
       "      <td>1</td>\n",
       "    </tr>\n",
       "    <tr>\n",
       "      <th>4</th>\n",
       "      <td>1.51742</td>\n",
       "      <td>13.27</td>\n",
       "      <td>3.62</td>\n",
       "      <td>1.24</td>\n",
       "      <td>73.08</td>\n",
       "      <td>0.55</td>\n",
       "      <td>8.07</td>\n",
       "      <td>0.0</td>\n",
       "      <td>0.0</td>\n",
       "      <td>1</td>\n",
       "    </tr>\n",
       "  </tbody>\n",
       "</table>\n",
       "</div>"
      ],
      "text/plain": [
       "        RI     Na    Mg    Al     Si     K    Ca   Ba   Fe  Type\n",
       "0  1.52101  13.64  4.49  1.10  71.78  0.06  8.75  0.0  0.0     1\n",
       "1  1.51761  13.89  3.60  1.36  72.73  0.48  7.83  0.0  0.0     1\n",
       "2  1.51618  13.53  3.55  1.54  72.99  0.39  7.78  0.0  0.0     1\n",
       "3  1.51766  13.21  3.69  1.29  72.61  0.57  8.22  0.0  0.0     1\n",
       "4  1.51742  13.27  3.62  1.24  73.08  0.55  8.07  0.0  0.0     1"
      ]
     },
     "execution_count": 27,
     "metadata": {},
     "output_type": "execute_result"
    }
   ],
   "source": [
    "glass = pd.read_csv(\"./glass.csv\")\n",
    "print(glass.shape)\n",
    "\n",
    "# provide information on first five samples\n",
    "glass.head()"
   ]
  },
  {
   "cell_type": "code",
   "execution_count": 28,
   "metadata": {},
   "outputs": [
    {
     "data": {
      "text/plain": [
       "['RI', 'Na', 'Mg', 'Al', 'Si', 'K', 'Ca', 'Ba', 'Fe', 'Type']"
      ]
     },
     "execution_count": 28,
     "metadata": {},
     "output_type": "execute_result"
    }
   ],
   "source": [
    "# check the keys in builit-in data\n",
    "list(glass.keys())"
   ]
  },
  {
   "cell_type": "code",
   "execution_count": 29,
   "metadata": {},
   "outputs": [
    {
     "name": "stdout",
     "output_type": "stream",
     "text": [
      "<class 'pandas.core.frame.DataFrame'>\n",
      "RangeIndex: 214 entries, 0 to 213\n",
      "Data columns (total 10 columns):\n",
      " #   Column  Non-Null Count  Dtype  \n",
      "---  ------  --------------  -----  \n",
      " 0   RI      214 non-null    float64\n",
      " 1   Na      214 non-null    float64\n",
      " 2   Mg      214 non-null    float64\n",
      " 3   Al      214 non-null    float64\n",
      " 4   Si      214 non-null    float64\n",
      " 5   K       214 non-null    float64\n",
      " 6   Ca      214 non-null    float64\n",
      " 7   Ba      214 non-null    float64\n",
      " 8   Fe      214 non-null    float64\n",
      " 9   Type    214 non-null    int64  \n",
      "dtypes: float64(9), int64(1)\n",
      "memory usage: 16.8 KB\n"
     ]
    }
   ],
   "source": [
    "# information on data features\n",
    "glass.info()"
   ]
  },
  {
   "cell_type": "code",
   "execution_count": 30,
   "metadata": {},
   "outputs": [
    {
     "name": "stdout",
     "output_type": "stream",
     "text": [
      "Feature dimension: (214, 9)\n",
      "Class labels: [1 2 3 5 6 7]\n"
     ]
    }
   ],
   "source": [
    "# assign features and targets to variables\n",
    "X = pd.DataFrame(glass.drop([\"Type\"], axis = 1),\n",
    "            columns=['RI','Na','Mg','Al','Si','K','Ca','Ba','Fe'])\n",
    "y = glass.Type\n",
    "\n",
    "X_train, X_test, y_train, y_test = train_test_split(X, y, test_size = .2, random_state = 40, stratify = y)\n",
    "\n",
    "\n",
    "#checking data set\n",
    "print('Feature dimension:', X.shape)\n",
    "print('Class labels:', np.unique(y))"
   ]
  },
  {
   "cell_type": "code",
   "execution_count": 31,
   "metadata": {},
   "outputs": [
    {
     "name": "stdout",
     "output_type": "stream",
     "text": [
      "(171, 9)\n"
     ]
    }
   ],
   "source": [
    "# how many samples in training data\n",
    "print(X_train.shape)"
   ]
  },
  {
   "cell_type": "code",
   "execution_count": 32,
   "metadata": {},
   "outputs": [
    {
     "name": "stdout",
     "output_type": "stream",
     "text": [
      "(43, 9)\n"
     ]
    }
   ],
   "source": [
    "# how many samples in test data\n",
    "print(X_test.shape)"
   ]
  },
  {
   "cell_type": "code",
   "execution_count": 6,
   "metadata": {},
   "outputs": [
    {
     "name": "stdout",
     "output_type": "stream",
     "text": [
      "          RI     Na    Mg    Al     Si     K    Ca    Ba   Fe\n",
      "0    1.52101  13.64  4.49  1.10  71.78  0.06  8.75  0.00  0.0\n",
      "1    1.51761  13.89  3.60  1.36  72.73  0.48  7.83  0.00  0.0\n",
      "2    1.51618  13.53  3.55  1.54  72.99  0.39  7.78  0.00  0.0\n",
      "3    1.51766  13.21  3.69  1.29  72.61  0.57  8.22  0.00  0.0\n",
      "4    1.51742  13.27  3.62  1.24  73.08  0.55  8.07  0.00  0.0\n",
      "..       ...    ...   ...   ...    ...   ...   ...   ...  ...\n",
      "209  1.51623  14.14  0.00  2.88  72.61  0.08  9.18  1.06  0.0\n",
      "210  1.51685  14.92  0.00  1.99  73.06  0.00  8.40  1.59  0.0\n",
      "211  1.52065  14.36  0.00  2.02  73.42  0.00  8.44  1.64  0.0\n",
      "212  1.51651  14.38  0.00  1.94  73.61  0.00  8.48  1.57  0.0\n",
      "213  1.51711  14.23  0.00  2.08  73.36  0.00  8.62  1.67  0.0\n",
      "\n",
      "[214 rows x 9 columns]\n",
      "0      1\n",
      "1      1\n",
      "2      1\n",
      "3      1\n",
      "4      1\n",
      "      ..\n",
      "209    7\n",
      "210    7\n",
      "211    7\n",
      "212    7\n",
      "213    7\n",
      "Name: Type, Length: 214, dtype: int64\n"
     ]
    }
   ],
   "source": [
    "# double check values in the variables\n",
    "print(X)\n",
    "print(y)"
   ]
  },
  {
   "cell_type": "code",
   "execution_count": 7,
   "metadata": {},
   "outputs": [
    {
     "name": "stdout",
     "output_type": "stream",
     "text": [
      "          RI     Na    Mg    Al     Si     K     Ca    Ba    Fe\n",
      "203  1.51658  14.80  0.00  1.99  73.11  0.00   8.28  1.71  0.00\n",
      "47   1.52667  13.99  3.70  0.71  71.57  0.02   9.82  0.00  0.10\n",
      "115  1.51846  13.41  3.89  1.33  72.38  0.51   8.28  0.00  0.00\n",
      "151  1.52127  14.32  3.90  0.83  71.50  0.00   9.49  0.00  0.00\n",
      "192  1.51623  14.20  0.00  2.79  73.46  0.04   9.04  0.40  0.09\n",
      "..       ...    ...   ...   ...    ...   ...    ...   ...   ...\n",
      "161  1.51934  13.64  3.54  0.75  72.65  0.16   8.89  0.15  0.24\n",
      "62   1.52172  13.51  3.86  0.88  71.79  0.23   9.54  0.00  0.11\n",
      "30   1.51768  12.65  3.56  1.30  73.08  0.61   8.69  0.00  0.14\n",
      "53   1.51837  13.14  2.84  1.28  72.85  0.55   9.07  0.00  0.00\n",
      "166  1.52151  11.03  1.71  1.56  73.44  0.58  11.62  0.00  0.00\n",
      "\n",
      "[171 rows x 9 columns]\n",
      "203    7\n",
      "47     1\n",
      "115    2\n",
      "151    3\n",
      "192    7\n",
      "      ..\n",
      "161    3\n",
      "62     1\n",
      "30     1\n",
      "53     1\n",
      "166    5\n",
      "Name: Type, Length: 171, dtype: int64\n"
     ]
    }
   ],
   "source": [
    "# load necessary package and methods\n",
    "from sklearn.preprocessing import StandardScaler\n",
    "\n",
    "# standardized the features in both the training and test set \n",
    "sc = StandardScaler()\n",
    "sc.fit(X_train)\n",
    "X_train_std = sc.transform(X_train)\n",
    "X_test_std = sc.transform(X_test)\n",
    "\n",
    "print(X_train)\n",
    "print(y_train)"
   ]
  },
  {
   "cell_type": "markdown",
   "metadata": {},
   "source": [
    "### Learning - Training a KNN model"
   ]
  },
  {
   "cell_type": "code",
   "execution_count": 47,
   "metadata": {},
   "outputs": [
    {
     "data": {
      "text/plain": [
       "KNeighborsClassifier()"
      ]
     },
     "execution_count": 47,
     "metadata": {},
     "output_type": "execute_result"
    }
   ],
   "source": [
    "# build your KNN model\n",
    "# load necessary package and methods\n",
    "from sklearn.neighbors import KNeighborsClassifier\n",
    "\n",
    "# set the classifier\n",
    "knn = KNeighborsClassifier(n_neighbors=5, \n",
    "                           p=2, \n",
    "                           metric='minkowski')\n",
    "\n",
    "# fit the classifier from training set\n",
    "knn.fit(X_train, y_train)"
   ]
  },
  {
   "cell_type": "markdown",
   "metadata": {},
   "source": [
    "### Prediction"
   ]
  },
  {
   "cell_type": "markdown",
   "metadata": {},
   "source": [
    "Predict the label or class for a new sample with features as\n",
    "\n",
    "RI | Na | Mg | Al | Si | K | Ca | Ba | Fe\n",
    "--- | --- | --- | --- | --- | --- | --- | --- | --- \n",
    "1.6010| 12.51 | 1.67 | 2.15 | 72.19 | 0.79 | 9.3 | 0.28 | 0.54 "
   ]
  },
  {
   "cell_type": "code",
   "execution_count": 48,
   "metadata": {},
   "outputs": [
    {
     "data": {
      "text/plain": [
       "array([5], dtype=int64)"
      ]
     },
     "execution_count": 48,
     "metadata": {},
     "output_type": "execute_result"
    }
   ],
   "source": [
    "# standardize the features\n",
    "test_wstd = sc.transform([[1.6010, 12.51, 1.67, 2.15, 72.19, 0.79, 9.3, 0.28, 0.54]])\n",
    "\n",
    "# prediction\n",
    "knn.predict(test_wstd)"
   ]
  },
  {
   "cell_type": "markdown",
   "metadata": {},
   "source": [
    "Predict the label or class for all the samples in the test set"
   ]
  },
  {
   "cell_type": "code",
   "execution_count": 49,
   "metadata": {},
   "outputs": [
    {
     "data": {
      "text/plain": [
       "array([1, 1, 2, 1, 1, 1, 2, 2, 1, 2, 2, 1, 1, 1, 1, 1, 1, 2, 6, 2, 1, 1,\n",
       "       2, 7, 1, 1, 7, 2, 1, 2, 1, 2, 1, 7, 1, 7, 2, 7, 7, 1, 1, 2, 1],\n",
       "      dtype=int64)"
      ]
     },
     "execution_count": 49,
     "metadata": {},
     "output_type": "execute_result"
    }
   ],
   "source": [
    "# predict the label for all samples in test set\n",
    "knn.predict(X_test)"
   ]
  },
  {
   "cell_type": "markdown",
   "metadata": {},
   "source": [
    "### Classification Report"
   ]
  },
  {
   "cell_type": "code",
   "execution_count": 50,
   "metadata": {},
   "outputs": [
    {
     "name": "stdout",
     "output_type": "stream",
     "text": [
      "              precision    recall  f1-score   support\n",
      "\n",
      "           1       0.48      0.79      0.59        14\n",
      "           2       0.62      0.53      0.57        15\n",
      "           3       0.00      0.00      0.00         3\n",
      "           5       0.00      0.00      0.00         3\n",
      "           6       1.00      0.50      0.67         2\n",
      "           7       0.83      0.83      0.83         6\n",
      "\n",
      "    accuracy                           0.58        43\n",
      "   macro avg       0.49      0.44      0.44        43\n",
      "weighted avg       0.53      0.58      0.54        43\n",
      "\n"
     ]
    }
   ],
   "source": [
    "# Classification report for KNN\n",
    "# define y_pred\n",
    "y_pred = knn.predict(X_test)\n",
    "\n",
    "# print\n",
    "print(classification_report(y_test, y_pred))"
   ]
  },
  {
   "cell_type": "markdown",
   "metadata": {},
   "source": [
    "## Section II: Decision Tree"
   ]
  },
  {
   "cell_type": "markdown",
   "metadata": {},
   "source": [
    "### Preprocessing"
   ]
  },
  {
   "cell_type": "code",
   "execution_count": 12,
   "metadata": {},
   "outputs": [
    {
     "name": "stdout",
     "output_type": "stream",
     "text": [
      "Dimension: (214, 10)\n",
      "Information:\n",
      "<class 'pandas.core.frame.DataFrame'>\n",
      "RangeIndex: 214 entries, 0 to 213\n",
      "Data columns (total 10 columns):\n",
      " #   Column  Non-Null Count  Dtype  \n",
      "---  ------  --------------  -----  \n",
      " 0   RI      214 non-null    float64\n",
      " 1   Na      214 non-null    float64\n",
      " 2   Mg      214 non-null    float64\n",
      " 3   Al      214 non-null    float64\n",
      " 4   Si      214 non-null    float64\n",
      " 5   K       214 non-null    float64\n",
      " 6   Ca      214 non-null    float64\n",
      " 7   Ba      214 non-null    float64\n",
      " 8   Fe      214 non-null    float64\n",
      " 9   Type    214 non-null    int64  \n",
      "dtypes: float64(9), int64(1)\n",
      "memory usage: 16.8 KB\n",
      "None\n",
      "Summary:\n",
      "                RI          Na          Mg          Al          Si           K  \\\n",
      "count  214.000000  214.000000  214.000000  214.000000  214.000000  214.000000   \n",
      "mean     1.518365   13.407850    2.684533    1.444907   72.650935    0.497056   \n",
      "std      0.003037    0.816604    1.442408    0.499270    0.774546    0.652192   \n",
      "min      1.511150   10.730000    0.000000    0.290000   69.810000    0.000000   \n",
      "25%      1.516523   12.907500    2.115000    1.190000   72.280000    0.122500   \n",
      "50%      1.517680   13.300000    3.480000    1.360000   72.790000    0.555000   \n",
      "75%      1.519157   13.825000    3.600000    1.630000   73.087500    0.610000   \n",
      "max      1.533930   17.380000    4.490000    3.500000   75.410000    6.210000   \n",
      "\n",
      "               Ca          Ba          Fe        Type  \n",
      "count  214.000000  214.000000  214.000000  214.000000  \n",
      "mean     8.956963    0.175047    0.057009    2.780374  \n",
      "std      1.423153    0.497219    0.097439    2.103739  \n",
      "min      5.430000    0.000000    0.000000    1.000000  \n",
      "25%      8.240000    0.000000    0.000000    1.000000  \n",
      "50%      8.600000    0.000000    0.000000    2.000000  \n",
      "75%      9.172500    0.000000    0.100000    3.000000  \n",
      "max     16.190000    3.150000    0.510000    7.000000  \n"
     ]
    }
   ],
   "source": [
    "# double check the loaded data\n",
    "# dimensions\n",
    "print(\"Dimension:\", glass.shape)\n",
    "\n",
    "# data information\n",
    "print(\"Information:\")\n",
    "print(glass.info())\n",
    "\n",
    "# data summary\n",
    "print(\"Summary:\\n\", glass.describe())"
   ]
  },
  {
   "cell_type": "markdown",
   "metadata": {},
   "source": [
    "### Learning - Training a Decision Tree model"
   ]
  },
  {
   "cell_type": "code",
   "execution_count": 13,
   "metadata": {},
   "outputs": [
    {
     "data": {
      "text/plain": [
       "DecisionTreeClassifier(max_depth=4, random_state=1)"
      ]
     },
     "execution_count": 13,
     "metadata": {},
     "output_type": "execute_result"
    }
   ],
   "source": [
    "# load necessary package and methods, if you havne't\n",
    "from sklearn.tree import DecisionTreeClassifier\n",
    "\n",
    "# build a decision tree model\n",
    "# set the classifier\n",
    "tree_model = DecisionTreeClassifier(criterion='gini', \n",
    "                                    max_depth=4, \n",
    "                                    random_state=1)\n",
    "\n",
    "# fit the classifier from training set\n",
    "tree_model.fit(X_train, y_train)"
   ]
  },
  {
   "cell_type": "markdown",
   "metadata": {},
   "source": [
    "### Prediction"
   ]
  },
  {
   "cell_type": "markdown",
   "metadata": {},
   "source": [
    "Predict the label or class for a new sample with features as\n",
    "\n",
    "RI | Na | Mg | Al | Si | K | Ca | Ba | Fe\n",
    "--- | --- | --- | --- | --- | --- | --- | --- | --- \n",
    "1.6010| 12.51 | 1.67 | 2.15 | 72.19 | 0.79 | 9.3 | 0.28 | 0.54 "
   ]
  },
  {
   "cell_type": "code",
   "execution_count": 14,
   "metadata": {},
   "outputs": [
    {
     "data": {
      "text/plain": [
       "array([5], dtype=int64)"
      ]
     },
     "execution_count": 14,
     "metadata": {},
     "output_type": "execute_result"
    }
   ],
   "source": [
    "# predict the label or class for sample with given features\n",
    "tree_model.predict([[1.6010, 12.51, 1.67, 2.15, 72.19, 0.79, 9.3, 0.28, 0.54]])"
   ]
  },
  {
   "cell_type": "markdown",
   "metadata": {},
   "source": [
    "Predict the label or class for all the samples in the test set"
   ]
  },
  {
   "cell_type": "code",
   "execution_count": 15,
   "metadata": {},
   "outputs": [
    {
     "data": {
      "text/plain": [
       "array([1, 1, 2, 1, 1, 1, 1, 2, 3, 2, 2, 3, 1, 1, 1, 2, 1, 2, 2, 2, 3, 1,\n",
       "       2, 7, 3, 1, 7, 2, 2, 2, 2, 5, 7, 7, 1, 7, 2, 5, 7, 1, 5, 3, 2],\n",
       "      dtype=int64)"
      ]
     },
     "execution_count": 15,
     "metadata": {},
     "output_type": "execute_result"
    }
   ],
   "source": [
    "# predict the label for all samples in test set\n",
    "tree_model.predict(X_test)"
   ]
  },
  {
   "cell_type": "markdown",
   "metadata": {},
   "source": [
    "### Classification Report"
   ]
  },
  {
   "cell_type": "code",
   "execution_count": 16,
   "metadata": {},
   "outputs": [
    {
     "name": "stdout",
     "output_type": "stream",
     "text": [
      "              precision    recall  f1-score   support\n",
      "\n",
      "           1       0.57      0.57      0.57        14\n",
      "           2       0.53      0.53      0.53        15\n",
      "           3       0.20      0.33      0.25         3\n",
      "           5       0.67      0.67      0.67         3\n",
      "           6       0.00      0.00      0.00         2\n",
      "           7       0.83      0.83      0.83         6\n",
      "\n",
      "    accuracy                           0.56        43\n",
      "   macro avg       0.47      0.49      0.48        43\n",
      "weighted avg       0.55      0.56      0.55        43\n",
      "\n"
     ]
    }
   ],
   "source": [
    "# Classification report for DT\n",
    "# define y_pred\n",
    "y_pred = tree_model.predict(X_test)\n",
    "\n",
    "# print\n",
    "print(classification_report(y_test, y_pred))"
   ]
  },
  {
   "cell_type": "markdown",
   "metadata": {},
   "source": [
    "### Present the Decision Tree\n",
    "Please disply the decision tree structure on the screen and save it to either a pdf, jpeg, or png file."
   ]
  },
  {
   "cell_type": "code",
   "execution_count": 17,
   "metadata": {},
   "outputs": [
    {
     "data": {
      "image/png": "[encoded data removed]",
      "text/plain": [
       "<Figure size 432x288 with 1 Axes>"
      ]
     },
     "metadata": {
      "needs_background": "light"
     },
     "output_type": "display_data"
    }
   ],
   "source": [
    "import matplotlib.pyplot as plt\n",
    "from sklearn import tree\n",
    "\n",
    "\n",
    "# plot the tree\n",
    "tree.plot_tree(tree_model)\n",
    "# save the plot into a pdf file\n",
    "plt.savefig('images/tree_model_iris.pdf')\n",
    "# show the plot on the screen\n",
    "plt.show()"
   ]
  },
  {
   "cell_type": "markdown",
   "metadata": {},
   "source": [
    "## Section III: SVM"
   ]
  },
  {
   "cell_type": "markdown",
   "metadata": {},
   "source": [
    "### Preprocessing"
   ]
  },
  {
   "cell_type": "code",
   "execution_count": 68,
   "metadata": {},
   "outputs": [],
   "source": [
    "# define function to visualize decision boundaries\n",
    "\n",
    "from matplotlib.colors import ListedColormap\n",
    "import matplotlib as mpl\n",
    "import matplotlib.pyplot as plt\n",
    "\n",
    "def plot_decision_regions(X, y, classifier, test_idx=None, resolution=0.02):\n",
    "\n",
    "    # setup marker generator and color map\n",
    "    markers = ('s', 'x', 'o', '^', 'v')\n",
    "    colors = ('red', 'blue', 'lightgreen', 'gray', 'cyan')\n",
    "    cmap = ListedColormap(colors[:len(np.unique(y))])\n",
    "\n",
    "    # plot the decision surface\n",
    "    x1_min, x1_max = X[:, 0].min() - 1, X[:, 0].max() + 1\n",
    "    x2_min, x2_max = X[:, 1].min() - 1, X[:, 1].max() + 1\n",
    "    xx1, xx2 = np.meshgrid(np.arange(x1_min, x1_max, resolution),\n",
    "                           np.arange(x2_min, x2_max, resolution))\n",
    "    Z = classifier.predict(np.array([xx1.ravel(), xx2.ravel()]).T)\n",
    "    Z = Z.reshape(xx1.shape)\n",
    "    plt.contourf(xx1, xx2, Z, alpha=0.3, cmap=cmap)\n",
    "    plt.xlim(xx1.min(), xx1.max())\n",
    "    plt.ylim(xx2.min(), xx2.max())\n",
    "\n",
    "    for idx, cl in enumerate(np.unique(y)):\n",
    "        plt.scatter(x=X[y == cl, 0], \n",
    "                    y=X[y == cl, 1],\n",
    "                    alpha=0.8, \n",
    "                    c=colors[idx],\n",
    "                    marker=markers[idx], \n",
    "                    label=cl, \n",
    "                    edgecolor='black')\n",
    "\n",
    "    # highlight test examples\n",
    "    if test_idx:\n",
    "        # plot all examples\n",
    "        X_test, y_test = X[test_idx, :], y[test_idx]\n",
    "\n",
    "        plt.scatter(X_test[:, 0],\n",
    "                    X_test[:, 1],\n",
    "                    c='',\n",
    "                    edgecolor='black',\n",
    "                    alpha=1.0,\n",
    "                    linewidth=1,\n",
    "                    marker='o',\n",
    "                    s=100, \n",
    "                    label='test set')"
   ]
  },
  {
   "cell_type": "code",
   "execution_count": 69,
   "metadata": {},
   "outputs": [
    {
     "name": "stdout",
     "output_type": "stream",
     "text": [
      "Class labels: [1 2 3 5 6 7]\n"
     ]
    }
   ],
   "source": [
    "# double check the labels in samples\n",
    "print('Class labels:', np.unique(y))"
   ]
  },
  {
   "cell_type": "markdown",
   "metadata": {},
   "source": [
    "### Learning - Training a SVM model"
   ]
  },
  {
   "cell_type": "code",
   "execution_count": 70,
   "metadata": {},
   "outputs": [
    {
     "data": {
      "text/plain": [
       "SVC(C=inf, decision_function_shape='ovo', kernel='linear', max_iter=5000)"
      ]
     },
     "execution_count": 70,
     "metadata": {},
     "output_type": "execute_result"
    }
   ],
   "source": [
    "# load necessary package and methods, if you havne't\n",
    "from sklearn.svm import SVC\n",
    "\n",
    "# build a SVM Classifier model\n",
    "# set the classifier\n",
    "svm_clf = SVC(kernel=\"linear\", C=float(\"inf\"), max_iter= 5000, decision_function_shape='ovo')\n",
    "\n",
    "# fit the classifier from training set\n",
    "svm_clf.fit(X_train_std, y_train)\n"
   ]
  },
  {
   "cell_type": "markdown",
   "metadata": {},
   "source": [
    "### Prediction"
   ]
  },
  {
   "cell_type": "markdown",
   "metadata": {},
   "source": [
    "Predict the label or class for a new sample with features as\n",
    "\n",
    "RI | Na | Mg | Al | Si | K | Ca | Ba | Fe\n",
    "--- | --- | --- | --- | --- | --- | --- | --- | --- \n",
    "1.6010| 12.51 | 1.67 | 2.15 | 72.19 | 0.79 | 9.3 | 0.28 | 0.54 "
   ]
  },
  {
   "cell_type": "code",
   "execution_count": 71,
   "metadata": {},
   "outputs": [
    {
     "name": "stdout",
     "output_type": "stream",
     "text": [
      "[7]\n"
     ]
    }
   ],
   "source": [
    "# get prediction for class with given samples\n",
    "X_new = np.array([[1.6010, 12.51, 1.67, 2.15, 72.19, 0.79, 9.3, 0.28, 0.54]])\n",
    "X_new_std = sc.transform(X_new)\n",
    "y_hat = svm_clf.predict(X_new_std)\n",
    "print(y_hat)"
   ]
  },
  {
   "cell_type": "markdown",
   "metadata": {},
   "source": [
    "Predict the label or class for all the samples in the test set"
   ]
  },
  {
   "cell_type": "code",
   "execution_count": 72,
   "metadata": {},
   "outputs": [
    {
     "name": "stdout",
     "output_type": "stream",
     "text": [
      "[2 2 2 1 6 1 1 1 3 1 3 3 1 1 1 3 2 3 6 1 3 2 1 7 3 1 7 2 1 2 6 1 3 7 1 7 1\n",
      " 5 7 1 7 1 1]\n"
     ]
    }
   ],
   "source": [
    "# get prediction for all the samples in the test set\n",
    "y_hats = svm_clf.predict(X_test_std)\n",
    "print(y_hats)"
   ]
  },
  {
   "cell_type": "markdown",
   "metadata": {},
   "source": [
    "### Classification Report"
   ]
  },
  {
   "cell_type": "code",
   "execution_count": 73,
   "metadata": {},
   "outputs": [
    {
     "name": "stdout",
     "output_type": "stream",
     "text": [
      "                                           precision    recall  f1-score   support\n",
      "\n",
      "   class 0: buildingwindowsfloatprocessed       0.44      0.57      0.50        14\n",
      "class 1: buildingwindowsnonfloatprocessed       0.29      0.13      0.18        15\n",
      "    class 2: vehiclewindowsfloatprocessed       0.12      0.33      0.18         3\n",
      "                      class 4: containers       1.00      0.33      0.50         3\n",
      "                       class 5: tableware       0.67      1.00      0.80         2\n",
      "                       class 6: headlamps       1.00      1.00      1.00         6\n",
      "\n",
      "                                 accuracy                           0.47        43\n",
      "                                macro avg       0.59      0.56      0.53        43\n",
      "                             weighted avg       0.49      0.47      0.45        43\n",
      "\n"
     ]
    }
   ],
   "source": [
    "# genereate and print the classification report\n",
    "target_names = ['class 0: buildingwindowsfloatprocessed', 'class 1: buildingwindowsnonfloatprocessed', 'class 2: vehiclewindowsfloatprocessed', 'class 4: containers', 'class 5: tableware', 'class 6: headlamps']\n",
    "\n",
    "# genereate and print the classification report\n",
    "print(classification_report(y_test, y_hats, target_names=target_names))"
   ]
  },
  {
   "cell_type": "markdown",
   "metadata": {},
   "source": [
    "## Section IV: Discussion"
   ]
  },
  {
   "cell_type": "markdown",
   "metadata": {},
   "source": [
    "### Question 1: Describe traing samples\n",
    "- How many observations are there in the dataset? \n",
    "- How many features does each observation have? \n",
    "- What/Which columns did you include in your features? Why and Why not?\n",
    "- What/Which column did you use for the label or target value?\n",
    "- What do those values of labels mean? (You may want to check the [data source](#datasource))\n",
    "- How many samples are there in your training set? How many in the test set?\n",
    "\n",
    "Please answer those questions in the cell below."
   ]
  },
  {
   "cell_type": "markdown",
   "metadata": {},
   "source": [
    "Answer: There are 214 samples in the dataset. Each observation has 10 features. We included all features other than Type. This is because Type is what we are trying to identify for the observations. The Type column was used as the label or target value, as this is what we are attempting to find. RI is the observations refractive index. Na through Fe refers to the elements weight percent in corresponding oxide for each observation (Kaggle). There are 171 samples in the training set and 43 samples in the test set."
   ]
  },
  {
   "cell_type": "markdown",
   "metadata": {},
   "source": [
    "### Question 2: Explore insights from the model - KNN\n",
    "- How many neighbhors did you consider in the model you built?\n",
    "- Why did you select the number? Have you changed the numbers? \n",
    "- Which distance function did you use in the model you built?\n",
    "- Why did you select that distance function? Have you tried other distance function?\n",
    "- Did any changes in the parameters or arguments (when you set the classifer) make your preidction or classificaton report different?\n",
    "- How did you or can you fine tune the KNN model?\n",
    "\n",
    "Please answer those questions in the cell below."
   ]
  },
  {
   "cell_type": "markdown",
   "metadata": {},
   "source": [
    "Answer: We considered 5 neighbors in the model we built [8]. This number was used in the example KNN completed in lab. If we increased K, the learning model would take more time to run, but have less variance and smoother deicison boundaries. We used the minkowski distance function in the model we built. The minkowski distance metric is a generalized version of the euclidean and manhattan metrics which makes it a good starting point. It is also the distance metric used in the example KNN. Setting the k to 10 changes the prediction from array[5] to array[1]; however, it also lowers the accuracy of the classification report. The KNN model can be made more efficient by standardizing features. You can also modify the amount of neighbors and distance function. Models should be compared to determine if it is a better model."
   ]
  },
  {
   "cell_type": "markdown",
   "metadata": {},
   "source": [
    "### Question 3: Explore insights from the model - Decision Tree\n",
    "- What is the maximum depth in the model you built? \n",
    "- Why did you selecet that number of depth?\n",
    "- Did any changes in the parameters or arguments (when you set the classifer) make your preidction or classificaton report different?\n",
    "- How did you or can you fine tune the Decision Tree model?\n",
    "- Based on your tree structure (the plot), which feature may be the most importnat feature to make the prediction?\n",
    "\n",
    "Please answer those questions in the cell below."
   ]
  },
  {
   "cell_type": "markdown",
   "metadata": {},
   "source": [
    "Answer: The max depth in our model is 4[13]. Starting with a lower depth prevents overfitting data and prevents overuse of computer resources. If we wanted to change parameters, we could make the depth a larger number. This would allow the decision tree to split into more nodes, but can result in overfitting. The model can be tuned by increasing or decreasing the depth value. Doing this will prevent over- or underfitting of the dat. The random state value can also be adjusted if minima are altering your predicitions. "
   ]
  },
  {
   "cell_type": "markdown",
   "metadata": {},
   "source": [
    "### Question 4: Explore insights from the model - SVM\n",
    "- Which kernel did you use in the model you built?\n",
    "- Why did you select the kernel? Have you tried other kernel?\n",
    "- Did any changes in the parameters or arguments (when you set the classifer) make your preidction or classificaton report different?\n",
    "- How did you or can you fine tune the SVM model?\n",
    "\n",
    "Please answer those questions in the cell below."
   ]
  },
  {
   "cell_type": "markdown",
   "metadata": {},
   "source": [
    "Answer: We used the linear kernel. The linear kernel is a good starting point in SVM mode as it is the most simple. To make your model more sophisticated, or if your model cannot be separated into two dimensions, you can use other kernels like the RBF, non-linear, or polynomial. Changing our kernel type to 'rbf' dramatically increases the accuracy of our model. An SVM model can be fine-tuned by changing the kernel type to find what best suits your dataset. Additionally, the max iterations on the learning model can be increased, but this will also require more computer resources. "
   ]
  },
  {
   "cell_type": "markdown",
   "metadata": {},
   "source": [
    "### Question 5: Compare learning algorithm\n",
    "For each learning algorithm:\n",
    " - What are the strengths or drawbacks?\n",
    " - Based on those pros and cons, which learning algorithm(s) may be proper to use? \n",
    " - How do those pros and cons affect your analyze in this assignment?\n",
    "\n",
    "Please answer those questions in the cell below."
   ]
  },
  {
   "cell_type": "markdown",
   "metadata": {},
   "source": [
    "Answer: The pros of KNN are that it is simple, has a wide array of applications, and converges in large data sets. The pros of the decision tree are easy to understand, low running time, and there is no further data processing required such as normalization. SVM is effective in data with high dimensionality and when the # of features is higher than # of training data. Based on the pros and cons, an SVM model with an rbf kernel would best serve us. Because SVM is effective for data with high dimensions, it applies well to our set that has nine features."
   ]
  },
  {
   "cell_type": "markdown",
   "metadata": {},
   "source": [
    "### Question 6: Eavluate the models\n",
    "From your classification report:\n",
    "- Which model perform the best for this dataset? What might be the reasons to cause that?\n",
    "- Which model perform the worst for this dataset? What might be the reasons to cause that?\n",
    "\n",
    "Please answer those questions in the cell below."
   ]
  },
  {
   "cell_type": "markdown",
   "metadata": {},
   "source": [
    "Answer: The model that performs the best is a SVM model using the rbf kernel. This is because it accounts for the high data dimensionality. The model that peforms the worst is the decision tree. That is due to the many data features in the dataset. A very large tree would be required to raise the accuracy of the model, which would have a long run time and require more computer resources. "
   ]
  },
  {
   "cell_type": "markdown",
   "metadata": {},
   "source": [
    "### Question 7: Reflect on your expereience\n",
    "When you learn and implement those classification models:\n",
    "- What is/are the most interesting part(s) for you?\n",
    "- What is/are the most challenging part(s) for you?\n",
    "- What is/are the not so fun part(s) for you?\n",
    "\n",
    "Please answer those questions in the cell below."
   ]
  },
  {
   "cell_type": "markdown",
   "metadata": {},
   "source": [
    "Answer: The most interesting part to me is how we can use computer models to predict observations that may have not happened yet. It is exciting to see how data science can be analyzed to make these predicitions. The most challenging part for me is understanding the outputs, i.e. if something is 'wrong' or 'right'. The not so fun parts are trying to get cells to run when there are errors. "
   ]
  },
  {
   "cell_type": "markdown",
   "metadata": {},
   "source": [
    "### Question 8: Imagine possible applications or future work \n",
    "Now, you have learned several fundemental classification learning algrithms:\n",
    "- What problems or applications (in daily life, at work, in school, or...) do you want to solve/develop using those machine learning classificaton?\n",
    "- To be able to solve the above problems or to build the applications, what kind of data or information you may need?\n",
    "\n",
    "Please answer those questions in the cell below."
   ]
  },
  {
   "cell_type": "markdown",
   "metadata": {},
   "source": [
    "Answer: Developing a machine learning model to predict what genre of music a musician would play based on their geographic location. Predict what religion a person is based off geographic and biological characteristics. For the music model, you would need to know the genre of music and geographic location. The data is low dimension so it could be done with a KNN model or SVM model with a linear kernel. For the religion model, you would need to know the geographic location, race, eye color, and hair color. This is higher dimension data that could be processed with an SVM model using the rbf kernel or a decision tree with high depth."
   ]
  },
  {
   "cell_type": "code",
   "execution_count": null,
   "metadata": {},
   "outputs": [],
   "source": []
  }
 ],
 "metadata": {
  "kernelspec": {
   "display_name": "Python 3",
   "language": "python",
   "name": "python3"
  },
  "language_info": {
   "codemirror_mode": {
    "name": "ipython",
    "version": 3
   },
   "file_extension": ".py",
   "mimetype": "text/x-python",
   "name": "python",
   "nbconvert_exporter": "python",
   "pygments_lexer": "ipython3",
   "version": "3.8.5"
  }
 },
 "nbformat": 4,
 "nbformat_minor": 2
}
