{
 "cells": [
  {
   "cell_type": "markdown",
   "metadata": {},
   "source": [
    "# Support Vector Machine\n",
    "## Objective\n",
    "\n",
    "As a result of completing this exercise you should be able to:\n",
    "\n",
    "- Understand the concept of  margins, support vectors, hyperplane, decision boundary\n",
    "- Understand the concept of Support Vector Machine (SVM)\n",
    "- Load real-world data from `sklearn` datasets\n",
    "- Use `sklearn` to implement a linear SVM classification\n",
    "- Use `sklearn` to implement a non-linear SVM classification with kernel\n",
    "- Display decision boundary using `matplotlib`\n",
    "- Evaluate the classficiation output with classification report using `scikit-learn`"
   ]
  },
  {
   "cell_type": "markdown",
   "metadata": {},
   "source": [
    "## Import Libraries\n",
    "\n",
    "Do this, if you prefer to import all the packages together in beginning of the notebook, and remember to run this cell first every time before you run other cells that need packages.\n",
    "\n",
    "If you prefer to import packages one by one later, you can skip this section. Do remember to import packages when you need to use them in the latter cells."
   ]
  },
  {
   "cell_type": "code",
   "execution_count": 1,
   "metadata": {},
   "outputs": [],
   "source": [
    "# import packages for future use in this notebook \n",
    "# please import the packages you plan to use, if prefered\n",
    "import numpy as np\n",
    "import matplotlib.pyplot as plt\n",
    "from sklearn import datasets\n",
    "from sklearn import tree\n",
    "\n",
    "\n",
    "import warnings\n",
    "warnings.filterwarnings('ignore')"
   ]
  },
  {
   "cell_type": "markdown",
   "metadata": {},
   "source": [
    "## Define functions to be used in later cells in this notebook\n",
    "\n",
    "### Definea function to visualize the decision regions or decision bounaries "
   ]
  },
  {
   "cell_type": "code",
   "execution_count": 2,
   "metadata": {},
   "outputs": [],
   "source": [
    "from matplotlib.colors import ListedColormap\n",
    "import matplotlib as mpl\n",
    "import matplotlib.pyplot as plt\n",
    "\n",
    "def plot_decision_regions(X, y, classifier, test_idx=None, resolution=0.02):\n",
    "\n",
    "    # setup marker generator and color map\n",
    "    markers = ('s', 'x', 'o', '^', 'v')\n",
    "    colors = ('red', 'blue', 'lightgreen', 'gray', 'cyan')\n",
    "    cmap = ListedColormap(colors[:len(np.unique(y))])\n",
    "\n",
    "    # plot the decision surface\n",
    "    x1_min, x1_max = X[:, 0].min() - 1, X[:, 0].max() + 1\n",
    "    x2_min, x2_max = X[:, 1].min() - 1, X[:, 1].max() + 1\n",
    "    xx1, xx2 = np.meshgrid(np.arange(x1_min, x1_max, resolution),\n",
    "                           np.arange(x2_min, x2_max, resolution))\n",
    "    Z = classifier.predict(np.array([xx1.ravel(), xx2.ravel()]).T)\n",
    "    Z = Z.reshape(xx1.shape)\n",
    "    plt.contourf(xx1, xx2, Z, alpha=0.3, cmap=cmap)\n",
    "    plt.xlim(xx1.min(), xx1.max())\n",
    "    plt.ylim(xx2.min(), xx2.max())\n",
    "\n",
    "    for idx, cl in enumerate(np.unique(y)):\n",
    "        plt.scatter(x=X[y == cl, 0], \n",
    "                    y=X[y == cl, 1],\n",
    "                    alpha=0.8, \n",
    "                    c=colors[idx],\n",
    "                    marker=markers[idx], \n",
    "                    label=cl, \n",
    "                    edgecolor='black')\n",
    "\n",
    "    # highlight test examples\n",
    "    if test_idx:\n",
    "        # plot all examples\n",
    "        X_test, y_test = X[test_idx, :], y[test_idx]\n",
    "\n",
    "        plt.scatter(X_test[:, 0],\n",
    "                    X_test[:, 1],\n",
    "                    c='',\n",
    "                    edgecolor='black',\n",
    "                    alpha=1.0,\n",
    "                    linewidth=1,\n",
    "                    marker='o',\n",
    "                    s=100, \n",
    "                    label='test set')\n"
   ]
  },
  {
   "cell_type": "markdown",
   "metadata": {},
   "source": [
    "## Classification - Examples"
   ]
  },
  {
   "cell_type": "markdown",
   "metadata": {},
   "source": [
    "<a name=\"eg1\"></a>\n",
    "### Example 1 - SVM with Linear Model for a Built-in Dataset (Iris)"
   ]
  },
  {
   "cell_type": "markdown",
   "metadata": {},
   "source": [
    "<a name=\"eg1-preprocess\"></a>\n",
    "#### Preprocessing"
   ]
  },
  {
   "cell_type": "markdown",
   "metadata": {},
   "source": [
    "##### Load data"
   ]
  },
  {
   "cell_type": "code",
   "execution_count": 5,
   "metadata": {},
   "outputs": [
    {
     "name": "stdout",
     "output_type": "stream",
     "text": [
      "Class labels: [0 1 2]\n"
     ]
    }
   ],
   "source": [
    "# if you haven't loaded the package before, import the packages and methods\n",
    "from sklearn import datasets\n",
    "import numpy as np\n",
    "\n",
    "# load the iris data; get two features; get the species\n",
    "iris = datasets.load_iris()\n",
    "X = iris.data[:, [2, 3]]\n",
    "y = iris.target\n",
    "\n",
    "print('Class labels:', np.unique(y))"
   ]
  },
  {
   "cell_type": "markdown",
   "metadata": {},
   "source": [
    "A basic SVM is bineary linear model, which can only classfiy data with two labels or classes. Thus, here we extract samples from two groups in the data. In this example, we get these two species: the Setosa Iris flowers and Versicolor Iris flowers."
   ]
  },
  {
   "cell_type": "code",
   "execution_count": 4,
   "metadata": {},
   "outputs": [],
   "source": [
    "# get the subset of samples: Setosa and Veriscolor\n",
    "setosa_or_versicolor = (y == 0) | (y == 1)\n",
    "X = X[setosa_or_versicolor]\n",
    "y = y[setosa_or_versicolor]"
   ]
  },
  {
   "cell_type": "code",
   "execution_count": 6,
   "metadata": {},
   "outputs": [
    {
     "name": "stdout",
     "output_type": "stream",
     "text": [
      "Class labels: [0 1 2]\n"
     ]
    }
   ],
   "source": [
    "# double check the labels in samples\n",
    "print('Class labels:', np.unique(y))"
   ]
  },
  {
   "cell_type": "markdown",
   "metadata": {},
   "source": [
    "##### Split training samples into training set and test set"
   ]
  },
  {
   "cell_type": "code",
   "execution_count": 7,
   "metadata": {},
   "outputs": [],
   "source": [
    "# load necessary package and methods, if you havne't\n",
    "from sklearn.model_selection import train_test_split\n",
    "\n",
    "# split the training data into training set and test set\n",
    "X_train, X_test, y_train, y_test = train_test_split(\n",
    "    X, y, test_size=0.3, random_state=1, stratify=y)"
   ]
  },
  {
   "cell_type": "code",
   "execution_count": 8,
   "metadata": {},
   "outputs": [
    {
     "name": "stdout",
     "output_type": "stream",
     "text": [
      "Labels counts in y: [50 50 50]\n",
      "Labels counts in y_train: [35 35 35]\n",
      "Labels counts in y_test: [15 15 15]\n"
     ]
    }
   ],
   "source": [
    "print('Labels counts in y:', np.bincount(y))\n",
    "print('Labels counts in y_train:', np.bincount(y_train))\n",
    "print('Labels counts in y_test:', np.bincount(y_test))"
   ]
  },
  {
   "cell_type": "markdown",
   "metadata": {},
   "source": [
    "#### Standardize features (Normalize features)"
   ]
  },
  {
   "cell_type": "code",
   "execution_count": 9,
   "metadata": {},
   "outputs": [],
   "source": [
    "# load necessary package and methods, if you havne't\n",
    "from sklearn.preprocessing import StandardScaler\n",
    "\n",
    "# normalize or standardize features\n",
    "sc = StandardScaler()\n",
    "sc.fit(X_train)\n",
    "X_train_std = sc.transform(X_train)\n",
    "X_test_std = sc.transform(X_test)"
   ]
  },
  {
   "cell_type": "markdown",
   "metadata": {},
   "source": [
    "<a name=\"eg1-learning\"></a>\n",
    "#### Learning - Training a Basic SVM (Binary Linear) Classification Model\n",
    "Fit or train a SVM linear classification model\n",
    "\n",
    "You may want to check the [referece](https://scikit-learn.org/stable/modules/svm.html#classification) out"
   ]
  },
  {
   "cell_type": "code",
   "execution_count": 10,
   "metadata": {},
   "outputs": [
    {
     "data": {
      "text/plain": [
       "SVC(C=inf, decision_function_shape='ovo', kernel='linear', max_iter=5000)"
      ]
     },
     "execution_count": 10,
     "metadata": {},
     "output_type": "execute_result"
    }
   ],
   "source": [
    "# load necessary package and methods, if you havne't\n",
    "from sklearn.svm import SVC\n",
    "\n",
    "# build a SVM Classifier model\n",
    "# set the classifier\n",
    "svm_clf = SVC(kernel=\"linear\", C=float(\"inf\"), max_iter= 5000, decision_function_shape='ovo')\n",
    "\n",
    "# fit the classifier from training set\n",
    "svm_clf.fit(X_train_std, y_train)\n"
   ]
  },
  {
   "cell_type": "markdown",
   "metadata": {},
   "source": [
    "<a name=\"eg1-predict\"></a>\n",
    "#### Prediction\n",
    "Predict the label or class for new x values (or new features)"
   ]
  },
  {
   "cell_type": "code",
   "execution_count": 11,
   "metadata": {},
   "outputs": [
    {
     "name": "stdout",
     "output_type": "stream",
     "text": [
      "[2]\n"
     ]
    }
   ],
   "source": [
    "# get prediction for an Iris flower with petal length as 5 and petal widith as 2\n",
    "X_new = np.array([[5, 2]])\n",
    "X_new_std = sc.transform(X_new)\n",
    "y_hat = svm_clf.predict(X_new_std)\n",
    "print(y_hat)"
   ]
  },
  {
   "cell_type": "code",
   "execution_count": 12,
   "metadata": {},
   "outputs": [
    {
     "name": "stdout",
     "output_type": "stream",
     "text": [
      "[2 0 0 2 1 1 2 1 2 0 0 2 0 1 0 1 2 1 1 2 2 0 1 2 1 1 1 2 0 2 0 0 1 1 2 2 0\n",
      " 0 0 1 2 2 1 0 0]\n"
     ]
    }
   ],
   "source": [
    "# get prediction for all the samples in the test set\n",
    "y_hats = svm_clf.predict(X_test_std)\n",
    "print(y_hats)"
   ]
  },
  {
   "cell_type": "code",
   "execution_count": 13,
   "metadata": {},
   "outputs": [
    {
     "data": {
      "text/plain": [
       "array([[-4.61404432e+00, -1.74896504e+00, -1.09532749e+01],\n",
       "       [ 1.15362381e+00,  1.07609199e+00,  1.81294639e+01],\n",
       "       [ 1.53813503e+00,  1.26482762e+00,  1.94927018e+01],\n",
       "       [-2.99909726e+00, -9.58965247e-01, -1.34143133e+00],\n",
       "       [-2.46078161e+00, -6.97126363e-01,  4.02202856e+00],\n",
       "       [-1.99936814e+00, -4.70344724e-01,  5.22568393e+00],\n",
       "       [-4.15263097e+00, -1.52816091e+00, -1.11140137e+00],\n",
       "       [-2.69148832e+00, -8.09769993e-01,  2.34035220e+00],\n",
       "       [-3.92192419e+00, -1.41252853e+00, -3.74886223e+00],\n",
       "       [ 1.46123281e+00,  1.22827600e+00,  1.74923429e+01],\n",
       "       [ 1.30742831e+00,  1.15218399e+00,  1.78106593e+01],\n",
       "       [-3.46051073e+00, -1.18574689e+00, -2.54527458e+00],\n",
       "       [ 1.69193950e+00,  1.33942525e+00,  2.13336508e+01],\n",
       "       [-9.99638989e-01,  1.97701785e-02,  9.63329352e+00],\n",
       "       [ 1.69193950e+00,  1.33942525e+00,  2.13336508e+01],\n",
       "       [-2.76839060e+00, -8.49310374e-01,  4.65938989e+00],\n",
       "       [-4.38333757e+00, -1.63482703e+00, -1.14314743e+01],\n",
       "       [-2.69148832e+00, -8.09769993e-01,  2.34035220e+00],\n",
       "       [-2.23007489e+00, -5.84482732e-01,  5.70358190e+00],\n",
       "       [-3.99882641e+00, -1.44908015e+00, -5.74922117e+00],\n",
       "       [-4.69094663e+00, -1.78999980e+00, -6.47437298e+00],\n",
       "       [ 1.84574397e+00,  1.41402288e+00,  2.31746151e+01],\n",
       "       [-2.46078161e+00, -6.97126363e-01,  4.02202856e+00],\n",
       "       [-3.76811967e+00, -1.33494214e+00, -6.22742432e+00],\n",
       "       [-2.15317264e+00, -5.46436730e-01,  5.54430070e+00],\n",
       "       [-2.99909729e+00, -9.60459626e-01,  8.18074338e-01],\n",
       "       [-9.22736711e-01,  5.93105599e-02,  7.31425582e+00],\n",
       "       [-5.15236001e+00, -2.01229830e+00, -1.41574771e+01],\n",
       "       [ 9.22917122e-01,  9.64942737e-01,  1.42886366e+01],\n",
       "       [-3.84502192e+00, -1.37298814e+00, -6.06753372e+00],\n",
       "       [ 1.53813500e+00,  1.26333325e+00,  2.16519672e+01],\n",
       "       [ 1.69193950e+00,  1.33942525e+00,  2.13336508e+01],\n",
       "       [-1.53795473e+00, -2.46551842e-01,  1.07485171e+01],\n",
       "       [-1.99936814e+00, -4.70344724e-01,  5.22568393e+00],\n",
       "       [-4.53714221e+00, -1.71839093e+00, -3.14397389e-01],\n",
       "       [-4.38333763e+00, -1.63781579e+00, -7.11247055e+00],\n",
       "       [ 1.84574397e+00,  1.41402288e+00,  2.31746151e+01],\n",
       "       [ 1.53813500e+00,  1.26333325e+00,  2.16519672e+01],\n",
       "       [ 1.69193950e+00,  1.33942525e+00,  2.13336508e+01],\n",
       "       [-2.69148835e+00, -8.11264371e-01,  4.49998757e+00],\n",
       "       [-4.84475107e+00, -1.86310305e+00, -1.04750756e+01],\n",
       "       [-3.61431523e+00, -1.26183889e+00, -2.22671789e+00],\n",
       "       [-2.76839057e+00, -8.47815996e-01,  2.49963626e+00],\n",
       "       [ 1.61503725e+00,  1.30137925e+00,  2.14930532e+01],\n",
       "       [ 1.76884172e+00,  1.37597688e+00,  2.33340098e+01]])"
      ]
     },
     "execution_count": 13,
     "metadata": {},
     "output_type": "execute_result"
    }
   ],
   "source": [
    "# if interested, get output of decision function for all the samples in the test set\n",
    "svm_clf.decision_function(X_test_std)"
   ]
  },
  {
   "cell_type": "code",
   "execution_count": 14,
   "metadata": {},
   "outputs": [
    {
     "name": "stdout",
     "output_type": "stream",
     "text": [
      "[2 0 0 2 1 1 2 1 2 0 0 2 0 1 0 1 2 1 1 2 2 0 1 2 1 1 1 2 0 2 0 0 1 1 2 2 0\n",
      " 0 0 1 2 2 1 0 0]\n"
     ]
    }
   ],
   "source": [
    "# print the truth y_test\n",
    "print(y_test)"
   ]
  },
  {
   "cell_type": "markdown",
   "metadata": {},
   "source": [
    "<a name=\"eg1-evaluate\"></a>\n",
    "#### Quick Model Eavluation: Classficiation Report\n"
   ]
  },
  {
   "cell_type": "code",
   "execution_count": 15,
   "metadata": {},
   "outputs": [
    {
     "name": "stdout",
     "output_type": "stream",
     "text": [
      "                     precision    recall  f1-score   support\n",
      "\n",
      "    class 0: Setosa       1.00      1.00      1.00        15\n",
      "class 1: Versicolor       1.00      1.00      1.00        15\n",
      " class 2: Virginica       1.00      1.00      1.00        15\n",
      "\n",
      "           accuracy                           1.00        45\n",
      "          macro avg       1.00      1.00      1.00        45\n",
      "       weighted avg       1.00      1.00      1.00        45\n",
      "\n"
     ]
    }
   ],
   "source": [
    "# load necessary package and methods, if you havne't\n",
    "from sklearn.metrics import classification_report\n",
    "\n",
    "# genereate and print the classification report\n",
    "target_names = ['class 0: Setosa', 'class 1: Versicolor', 'class 2: Virginica']\n",
    "\n",
    "# genereate and print the classification report\n",
    "print(classification_report(y_test, y_hats, target_names=target_names))"
   ]
  },
  {
   "cell_type": "markdown",
   "metadata": {},
   "source": [
    "Questions:\n",
    "- For each class:\n",
    "    - What does precision mean? fraction of relevant instances among retrieved instances\n",
    "    - What does recall mean? fraction of relevant instances retrieved\n",
    "    - What does F-score (F1-score mean)? measure that combines the preicision and recall using a harmonic mean\n",
    "    - What does support mean? number of occurences in each class of y_true\n",
    "- What does accuracy of the model mean? weighted mean of preicison and inverse precision, as well as recall and inverse recall\n",
    "- How good is our SVM classification model does? This model has a high accuracy, meaning there are not false negatives or positives.\n",
    "\n",
    "You may want to check out [classification report](https://scikit-learn.org/stable/modules/generated/sklearn.metrics.classification_report.html), [Precision and Recall](https://en.wikipedia.org/wiki/Precision_and_recall), and [F-score](https://en.wikipedia.org/wiki/Precision_and_recall)"
   ]
  },
  {
   "cell_type": "markdown",
   "metadata": {},
   "source": [
    "#### Plot the decision boundary"
   ]
  },
  {
   "cell_type": "code",
   "execution_count": 16,
   "metadata": {},
   "outputs": [
    {
     "data": {
      "image/png": "[encoded data removed]",
      "text/plain": [
       "<Figure size 432x288 with 1 Axes>"
      ]
     },
     "metadata": {
      "needs_background": "light"
     },
     "output_type": "display_data"
    }
   ],
   "source": [
    "# load necessary package and methods, if you havne't\n",
    "import matplotlib.pyplot as plt\n",
    "\n",
    "# plot the training set and the decision boundrary\n",
    "plot_decision_regions(X_train_std, y_train,svm_clf)\n",
    "plt.xlabel(\"Petal length (standardized)\", fontsize=14)\n",
    "plt.ylabel(\"Petal width (standardized)\", fontsize=14)\n",
    "plt.legend(loc=\"best\")\n",
    "plt.show()"
   ]
  },
  {
   "cell_type": "markdown",
   "metadata": {},
   "source": [
    "Questions:\n",
    "- What if you want to do mutli-classification using SVM?\n",
    "    - What should you modify in the preprocessing step? Skip cell 4\n",
    "    - Which parameter or argument you should add or change in the `svc` function? decision_function_shape='ovo',\n",
    "    - What should you modify in the classification report step? Add new target name\n",
    "    \n",
    "You may want to check the [referece](https://scikit-learn.org/stable/modules/generated/sklearn.svm.SVC.html#sklearn.svm.SVC) out\n"
   ]
  },
  {
   "cell_type": "markdown",
   "metadata": {},
   "source": [
    "<a name=\"eg2\"></a>\n",
    "### Example 2 - SVM with Non-linear Model for a Simulation Data from `make_moons` Methods"
   ]
  },
  {
   "cell_type": "markdown",
   "metadata": {},
   "source": [
    "<a name=\"eg2-preprocess\"></a>\n",
    "#### Preprocessing"
   ]
  },
  {
   "cell_type": "markdown",
   "metadata": {},
   "source": [
    "##### Create and load a non-linear dataset using `make_moons`"
   ]
  },
  {
   "cell_type": "code",
   "execution_count": 17,
   "metadata": {},
   "outputs": [
    {
     "data": {
      "image/png": "[encoded data removed]",
      "text/plain": [
       "<Figure size 432x288 with 1 Axes>"
      ]
     },
     "metadata": {
      "needs_background": "light"
     },
     "output_type": "display_data"
    }
   ],
   "source": [
    "# load necessary package and methods, if you havne't\n",
    "import matplotlib.pyplot as plt\n",
    "from sklearn.datasets import make_moons\n",
    "\n",
    "# create a moon-shape dataset\n",
    "X, y = make_moons(n_samples=100, noise=0.15, random_state=42)\n",
    "\n",
    "# plot the samples, with two features and two labels, to see the non-linear trend\n",
    "def plot_dataset(X, y, axes):\n",
    "    plt.plot(X[:, 0][y==0], X[:, 1][y==0], \"bs\")\n",
    "    plt.plot(X[:, 0][y==1], X[:, 1][y==1], \"g^\")\n",
    "    plt.axis(axes)\n",
    "    plt.grid(True, which='both')\n",
    "    plt.xlabel(r\"$x_1$\", fontsize=20)\n",
    "    plt.ylabel(r\"$x_2$\", fontsize=20, rotation=0)\n",
    "\n",
    "plot_dataset(X, y, [-1.5, 2.5, -1, 1.5])\n",
    "plt.show()"
   ]
  },
  {
   "cell_type": "code",
   "execution_count": 18,
   "metadata": {},
   "outputs": [
    {
     "name": "stdout",
     "output_type": "stream",
     "text": [
      "Class labels: [0 1]\n"
     ]
    }
   ],
   "source": [
    "import numpy as np\n",
    "print('Class labels:', np.unique(y))"
   ]
  },
  {
   "cell_type": "markdown",
   "metadata": {},
   "source": [
    "##### Split training sample to training set and test set"
   ]
  },
  {
   "cell_type": "code",
   "execution_count": 16,
   "metadata": {},
   "outputs": [],
   "source": [
    "# load necessary package and methods, if you havne't\n",
    "from sklearn.model_selection import train_test_split\n",
    "\n",
    "# split the training data into training set and test set\n",
    "X_train, X_test, y_train, y_test = train_test_split(\n",
    "    X, y, test_size=0.3, random_state=1, stratify=y)"
   ]
  },
  {
   "cell_type": "code",
   "execution_count": 17,
   "metadata": {},
   "outputs": [
    {
     "name": "stdout",
     "output_type": "stream",
     "text": [
      "(45, 2)\n",
      "[[5.4 2.3]\n",
      " [1.7 0.4]\n",
      " [1.4 0.3]\n",
      " [4.5 1.7]\n",
      " [4.4 1.4]\n",
      " [4.  1.3]\n",
      " [5.8 1.8]\n",
      " [4.5 1.5]\n",
      " [5.3 1.9]\n",
      " [1.3 0.4]\n",
      " [1.5 0.4]\n",
      " [4.9 1.8]\n",
      " [1.4 0.2]\n",
      " [3.3 1. ]\n",
      " [1.4 0.2]\n",
      " [4.8 1.4]\n",
      " [5.1 2.3]\n",
      " [4.5 1.5]\n",
      " [4.3 1.3]\n",
      " [5.2 2. ]\n",
      " [5.9 2.1]\n",
      " [1.4 0.1]\n",
      " [4.4 1.4]\n",
      " [4.9 2. ]\n",
      " [4.2 1.3]\n",
      " [4.7 1.6]\n",
      " [3.  1.1]\n",
      " [5.7 2.5]\n",
      " [1.6 0.6]\n",
      " [5.  2. ]\n",
      " [1.6 0.2]\n",
      " [1.4 0.2]\n",
      " [4.  1. ]\n",
      " [4.  1.3]\n",
      " [6.3 1.8]\n",
      " [5.5 2.1]\n",
      " [1.4 0.1]\n",
      " [1.6 0.2]\n",
      " [1.4 0.2]\n",
      " [4.7 1.4]\n",
      " [5.7 2.3]\n",
      " [5.1 1.8]\n",
      " [4.6 1.5]\n",
      " [1.5 0.2]\n",
      " [1.5 0.1]]\n"
     ]
    }
   ],
   "source": [
    "print(X_test.shape)\n",
    "print(X_test)"
   ]
  },
  {
   "cell_type": "markdown",
   "metadata": {},
   "source": [
    "Questions:\n",
    "- How many samples do you gerenerated? 100\n",
    "- How many samples are in training set? 70\n",
    "- How many samples are in test set? 45\n",
    "- How many features does each sample have? 2"
   ]
  },
  {
   "cell_type": "markdown",
   "metadata": {},
   "source": [
    "<a name=\"eg2-learning\"></a>\n",
    "#### Learning - Training an SVM with Kernel for Non-linear Classification Model\n",
    "\n",
    "##### Use `Pipeline` to normalize or standardize data and build a SVM kernal function \n",
    "Fit or train a SVM linear classification model"
   ]
  },
  {
   "cell_type": "code",
   "execution_count": 18,
   "metadata": {},
   "outputs": [
    {
     "data": {
      "text/plain": [
       "Pipeline(steps=[('scaler', StandardScaler()),\n",
       "                ('svm_clf', SVC(C=5, coef0=1, kernel='poly'))])"
      ]
     },
     "execution_count": 18,
     "metadata": {},
     "output_type": "execute_result"
    }
   ],
   "source": [
    "# load necessary package and methods, if you havne't\n",
    "from sklearn.svm import SVC\n",
    "from sklearn.pipeline import Pipeline\n",
    "from sklearn.preprocessing import StandardScaler\n",
    "\n",
    "# build a SVM Classifier model\n",
    "# set the classifier with pipeline (normalize features and then SVM classifier with kernel)\n",
    "poly_kernel_svm_clf = Pipeline([\n",
    "        (\"scaler\", StandardScaler()),\n",
    "        (\"svm_clf\", SVC(kernel=\"poly\", degree=3, coef0=1, C=5))\n",
    "    ])\n",
    "\n",
    "\n",
    "poly_kernel_svm_clf.fit(X_train, y_train)"
   ]
  },
  {
   "cell_type": "markdown",
   "metadata": {},
   "source": [
    "<a name=\"eg2-predict\"></a>\n",
    "#### Prediction\n",
    "Predict the label or class for new x values (or new features)"
   ]
  },
  {
   "cell_type": "code",
   "execution_count": 19,
   "metadata": {},
   "outputs": [
    {
     "name": "stdout",
     "output_type": "stream",
     "text": [
      "[0]\n"
     ]
    }
   ],
   "source": [
    "# get prediction for a new observation with feature x1 as 1.5 and feature x2 as 0.5\n",
    "X_new = np.array([[1.5,0.5]])\n",
    "y_hat = poly_kernel_svm_clf.predict(X_new)\n",
    "print(y_hat)"
   ]
  },
  {
   "cell_type": "code",
   "execution_count": 20,
   "metadata": {},
   "outputs": [
    {
     "name": "stdout",
     "output_type": "stream",
     "text": [
      "[2 0 0 1 1 1 2 1 2 0 0 2 0 1 0 1 2 1 1 2 2 0 1 2 1 1 1 2 0 2 0 0 1 1 2 2 0\n",
      " 0 0 1 2 2 1 0 0]\n"
     ]
    }
   ],
   "source": [
    "# get prediction for all the samples in the test set\n",
    "y_hats = poly_kernel_svm_clf.predict(X_test)\n",
    "print(y_hats)"
   ]
  },
  {
   "cell_type": "code",
   "execution_count": 21,
   "metadata": {},
   "outputs": [
    {
     "name": "stdout",
     "output_type": "stream",
     "text": [
      "[2 0 0 2 1 1 2 1 2 0 0 2 0 1 0 1 2 1 1 2 2 0 1 2 1 1 1 2 0 2 0 0 1 1 2 2 0\n",
      " 0 0 1 2 2 1 0 0]\n"
     ]
    }
   ],
   "source": [
    "# print the truth y_test\n",
    "print(y_test)"
   ]
  },
  {
   "cell_type": "markdown",
   "metadata": {},
   "source": [
    "<a name=\"eg2-evaluate\"></a>\n",
    "#### Quick Model Eavluation: Classficiation Report\n"
   ]
  },
  {
   "cell_type": "code",
   "execution_count": 23,
   "metadata": {
    "scrolled": true
   },
   "outputs": [
    {
     "name": "stdout",
     "output_type": "stream",
     "text": [
      "              precision    recall  f1-score   support\n",
      "\n",
      "    class 0:       1.00      1.00      1.00        15\n",
      "    class 1:       0.94      1.00      0.97        15\n",
      "    class 2:       1.00      0.93      0.97        15\n",
      "\n",
      "    accuracy                           0.98        45\n",
      "   macro avg       0.98      0.98      0.98        45\n",
      "weighted avg       0.98      0.98      0.98        45\n",
      "\n"
     ]
    }
   ],
   "source": [
    "# load necessary package and methods, if you havne't\n",
    "from sklearn.metrics import classification_report\n",
    "\n",
    "# assign the names of the labels\n",
    "target_names = ['class 0:', 'class 1:', 'class 2:']\n",
    "\n",
    "# genereate and print the classification report\n",
    "print(classification_report(y_test, y_hats, target_names=target_names))"
   ]
  },
  {
   "cell_type": "markdown",
   "metadata": {},
   "source": [
    "Questions:\n",
    "- For each class:\n",
    "    - What does precision mean? Number of correct results divided by the number of returned results. \n",
    "    - What does recall mean? Number of correct results divided by the number of results that should have been returned.\n",
    "    - What does F-score (F1-score mean)? Measure of model accuracy, calculated by using harmonic mean of preicison and recall.\n",
    "    - What does support mean? number of y_true occurences\n",
    "- What does accuracy of the model mean? The accuracy refers to how many false negatives and positives there were. This model has an accuracy of .98 which makes it less accurate than the previous model that only had two class targets.\n",
    "- How good is our SVM classification model does? This model is less accurate than the previous model; however, it is able to divide the iris samples into three total classes rather than two. Therefor, this model is more effective for our data set. "
   ]
  },
  {
   "cell_type": "markdown",
   "metadata": {},
   "source": [
    "#### Plot the decision boundary"
   ]
  },
  {
   "cell_type": "code",
   "execution_count": 24,
   "metadata": {},
   "outputs": [
    {
     "data": {
      "image/png": "[encoded data removed]",
      "text/plain": [
       "<Figure size 432x288 with 1 Axes>"
      ]
     },
     "metadata": {
      "needs_background": "light"
     },
     "output_type": "display_data"
    }
   ],
   "source": [
    "plot_decision_regions(X_train, y_train, poly_kernel_svm_clf)\n",
    "plt.xlabel(\"X1\", fontsize=14)\n",
    "plt.ylabel(\"X2\", fontsize=14)\n",
    "plt.legend(loc=\"best\")\n",
    "plt.show()"
   ]
  },
  {
   "cell_type": "markdown",
   "metadata": {},
   "source": [
    "Acknolwedgement: Examples are adapted from textbook Hands-OnMachine Learning with Scikit Learn, Keras, and TensorFlow 2nd edition, textbook Python Machine Learning 3rd edition, and demo in UMASS CS335."
   ]
  },
  {
   "cell_type": "markdown",
   "metadata": {},
   "source": [
    "<a name=\"ex1\"></a>\n",
    "### Exercise - SVM with an Exteranl Dataset (Heart Disease Prediction)\n",
    "\n",
    "Let build **SVM** classification with **anothe external data set \"heart.csv\"**\n",
    "\n",
    "\n",
    "In this exercise, we will apply SVM Classficiation to an external dataset for heart disease prediction.\n",
    "\n",
    "\n",
    "Please build a predictive model that answers the question: \"Whether the presence of heart disease shows in a patient\" using the patient data (i.e., age, gender, chest pain type,...) and decision tree learing algorithm. \n",
    "\n",
    "<a name=\"kaggle-heart\"></a>\n",
    "Data source:\\\n",
    "The data are from Kaggle and more details as well as data description can be found at https://www.kaggle.com/ronitf/heart-disease-uci. (The dataset is the \"heart.csv\" on the website. The labels are in the \"target\" column.)"
   ]
  },
  {
   "cell_type": "markdown",
   "metadata": {},
   "source": [
    "#### Preprocessing\n",
    "If you need help to load external data, please check previous lab exercises."
   ]
  },
  {
   "cell_type": "markdown",
   "metadata": {},
   "source": [
    "##### Load data"
   ]
  },
  {
   "cell_type": "code",
   "execution_count": null,
   "metadata": {},
   "outputs": [],
   "source": [
    "# if you haven't loaded the package before, import the packages and methods\n",
    "\n",
    "# read csv file into Python\n"
   ]
  },
  {
   "cell_type": "code",
   "execution_count": null,
   "metadata": {},
   "outputs": [],
   "source": [
    "# double check the loaded data\n",
    "# dimensions\n",
    "\n",
    "\n",
    "# data information\n",
    "\n",
    "\n",
    "# data summary"
   ]
  },
  {
   "cell_type": "code",
   "execution_count": null,
   "metadata": {},
   "outputs": [],
   "source": [
    "# check missing values\n",
    "\n",
    "\n",
    "# drop rows with missing values, if any\n",
    "\n",
    "\n",
    "# double check"
   ]
  },
  {
   "cell_type": "markdown",
   "metadata": {},
   "source": [
    "Note:\\\n",
    "You may want to check the [dropna function](https://pandas.pydata.org/pandas-docs/stable/reference/api/pandas.DataFrame.dropna.html) out."
   ]
  },
  {
   "cell_type": "markdown",
   "metadata": {},
   "source": [
    "Questions:\n",
    "* Which column is the label or class?\n",
    "* Which column are the features the label or class?\n",
    "You may want to check the [data source](#kaggle-heart) for the details."
   ]
  },
  {
   "cell_type": "code",
   "execution_count": null,
   "metadata": {},
   "outputs": [],
   "source": [
    "# get the features (all of the features. do NOT include the label)\n",
    "\n",
    "\n",
    "# double check data\n",
    "# dimensions\n",
    "\n",
    "\n",
    "# first five lines"
   ]
  },
  {
   "cell_type": "markdown",
   "metadata": {},
   "source": [
    "Note:\\\n",
    "You may want to check the [drop function](https://pandas.pydata.org/pandas-docs/stable/reference/api/pandas.DataFrame.drop.html) out."
   ]
  },
  {
   "cell_type": "code",
   "execution_count": null,
   "metadata": {},
   "outputs": [],
   "source": [
    "# any further preporcessing if needed, such as convert strings to numeric values\n",
    "\n"
   ]
  },
  {
   "cell_type": "code",
   "execution_count": null,
   "metadata": {},
   "outputs": [],
   "source": [
    "# get the target values (which column to use?)\n",
    "\n",
    "\n",
    "# check the dimension and the unique labels\n"
   ]
  },
  {
   "cell_type": "markdown",
   "metadata": {},
   "source": [
    "Questions:\n",
    "* How many samples do we have in the training set?\n",
    "* How many features do we have for each sample?\n",
    "* Which column should you use for the target values?"
   ]
  },
  {
   "cell_type": "markdown",
   "metadata": {},
   "source": [
    "##### Split training samples into training set and test set"
   ]
  },
  {
   "cell_type": "code",
   "execution_count": null,
   "metadata": {},
   "outputs": [],
   "source": [
    "# load necessary package and methods, if you havne't\n",
    "\n",
    "# split the training data into training set and test set\n"
   ]
  },
  {
   "cell_type": "code",
   "execution_count": null,
   "metadata": {},
   "outputs": [],
   "source": [
    "# cheking the data\n"
   ]
  },
  {
   "cell_type": "markdown",
   "metadata": {},
   "source": [
    "#### Learning - Training a SVM Classification model\n",
    "Fit or train an SVM classification model\n",
    "\n",
    "Please use `Pipeline` to normalize data and build an SVM model"
   ]
  },
  {
   "cell_type": "code",
   "execution_count": null,
   "metadata": {},
   "outputs": [],
   "source": [
    "# build your SVM model\n",
    "# load necessary package and methods\n",
    "\n",
    "# set the classifier\n",
    "\n",
    "# fit the classifier from training set\n"
   ]
  },
  {
   "cell_type": "markdown",
   "metadata": {},
   "source": [
    "#### Prediction"
   ]
  },
  {
   "cell_type": "markdown",
   "metadata": {},
   "source": [
    "Predict whether the presence of heart disease shows in a patient with following feature values\n",
    "\n",
    "age | sex | cp | trestbps | chol | fbs | restecg | thalach | exang | oldpeak | slope | ca |thal\n",
    "--- | --- | --- | --- | --- | --- | --- | --- | --- | --- | --- | --- | --- \n",
    "53 | 1 | 2 | 135 | 190 | 1 | 0 | 157 | 0 | 1.2 | 0 | 0 | 2"
   ]
  },
  {
   "cell_type": "code",
   "execution_count": null,
   "metadata": {},
   "outputs": [],
   "source": [
    "# predict the presence of heart disease in a patient with the given feature values\n"
   ]
  },
  {
   "cell_type": "markdown",
   "metadata": {},
   "source": [
    "Predict whether the presence of heart disease shows in all the patients in the test set"
   ]
  },
  {
   "cell_type": "code",
   "execution_count": null,
   "metadata": {},
   "outputs": [],
   "source": [
    "# predict whether the presence of heart disease shows in all the patients in the test set\n",
    "\n",
    "\n",
    "# print out the predicted labels\n",
    "\n",
    "\n",
    "# print out the true labels\n"
   ]
  },
  {
   "cell_type": "markdown",
   "metadata": {},
   "source": [
    "<a name=\"eg1-evaluate\"></a>\n",
    "#### Quick Model Eavluation: Classficiation Report\n"
   ]
  },
  {
   "cell_type": "code",
   "execution_count": null,
   "metadata": {},
   "outputs": [],
   "source": [
    "# load necessary package and methods, if you havne't\n",
    "\n",
    "# assign the names of the labels\n",
    "\n",
    "# genereate and print the classification report\n"
   ]
  },
  {
   "cell_type": "markdown",
   "metadata": {},
   "source": [
    "Questions:\n",
    "- How many class do you have? What are they?\n",
    "- For each class:\n",
    "    - What does precision mean?\n",
    "    - What does recall mean?\n",
    "    - What does F-score (F1-score mean)?\n",
    "    - What does support mean?\n",
    "- What does accuracy of the model mean?\n",
    "- How good is our SVM classification model does?"
   ]
  },
  {
   "cell_type": "markdown",
   "metadata": {},
   "source": []
  }
 ],
 "metadata": {
  "kernelspec": {
   "display_name": "Python 3",
   "language": "python",
   "name": "python3"
  },
  "language_info": {
   "codemirror_mode": {
    "name": "ipython",
    "version": 3
   },
   "file_extension": ".py",
   "mimetype": "text/x-python",
   "name": "python",
   "nbconvert_exporter": "python",
   "pygments_lexer": "ipython3",
   "version": "3.8.5"
  }
 },
 "nbformat": 4,
 "nbformat_minor": 2
}
